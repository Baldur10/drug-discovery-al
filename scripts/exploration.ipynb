{
 "cells": [
  {
   "cell_type": "markdown",
   "id": "170e2981-6112-4bd1-99e9-59e1690e0e32",
   "metadata": {},
   "source": [
    "# Data Exploration"
   ]
  },
  {
   "cell_type": "markdown",
   "id": "624fb5f2-f9eb-47ff-a907-b11e90587e30",
   "metadata": {},
   "source": [
    "## Loading pre-processed file into memory"
   ]
  },
  {
   "cell_type": "code",
   "execution_count": 1,
   "id": "875237ad-f6c5-46f5-a754-2fecc1186675",
   "metadata": {},
   "outputs": [],
   "source": [
    "import os\n",
    "import dask.dataframe as dd\n",
    "import pandas as pd\n",
    "import numpy as np\n",
    "# import seaborn as sns\n",
    "import matplotlib.pyplot as plt\n",
    "from sklearn.preprocessing import StandardScaler, MinMaxScaler, RobustScaler\n",
    "import gzip"
   ]
  },
  {
   "cell_type": "code",
   "execution_count": 2,
   "id": "7ce86328-283d-4071-bab1-e4b1a57590ac",
   "metadata": {},
   "outputs": [],
   "source": [
    "fingerprint = 'morgan'"
   ]
  },
  {
   "cell_type": "code",
   "execution_count": 3,
   "id": "7f231e50-8451-4cc1-bb5d-2190c1db6570",
   "metadata": {},
   "outputs": [],
   "source": [
    "file_path = '../data/data_temp/default_{0}/complete_file_{0}.parquet'.format(fingerprint)"
   ]
  },
  {
   "cell_type": "code",
   "execution_count": 4,
   "id": "69a19d44-8db9-412c-bfdc-7ab0c0029340",
   "metadata": {},
   "outputs": [
    {
     "data": {
      "text/html": [
       "<div>\n",
       "<style scoped>\n",
       "    .dataframe tbody tr th:only-of-type {\n",
       "        vertical-align: middle;\n",
       "    }\n",
       "\n",
       "    .dataframe tbody tr th {\n",
       "        vertical-align: top;\n",
       "    }\n",
       "\n",
       "    .dataframe thead th {\n",
       "        text-align: right;\n",
       "    }\n",
       "</style>\n",
       "<table border=\"1\" class=\"dataframe\">\n",
       "  <thead>\n",
       "    <tr style=\"text-align: right;\">\n",
       "      <th></th>\n",
       "      <th>index</th>\n",
       "      <th>CompoundID</th>\n",
       "      <th>assay_id</th>\n",
       "      <th>expt_pIC50</th>\n",
       "      <th>max2‐pQSAR_pIC50</th>\n",
       "      <th>Clustering</th>\n",
       "      <th>smiles</th>\n",
       "      <th>#cmpd</th>\n",
       "      <th>assay_type</th>\n",
       "      <th>target_family</th>\n",
       "      <th>...</th>\n",
       "      <th>smiles_morgan_2038</th>\n",
       "      <th>smiles_morgan_2039</th>\n",
       "      <th>smiles_morgan_2040</th>\n",
       "      <th>smiles_morgan_2041</th>\n",
       "      <th>smiles_morgan_2042</th>\n",
       "      <th>smiles_morgan_2043</th>\n",
       "      <th>smiles_morgan_2044</th>\n",
       "      <th>smiles_morgan_2045</th>\n",
       "      <th>smiles_morgan_2046</th>\n",
       "      <th>smiles_morgan_2047</th>\n",
       "    </tr>\n",
       "  </thead>\n",
       "  <tbody>\n",
       "    <tr>\n",
       "      <th>0</th>\n",
       "      <td>0</td>\n",
       "      <td>CHEMBL305106</td>\n",
       "      <td>157</td>\n",
       "      <td>11.00</td>\n",
       "      <td>10.7912</td>\n",
       "      <td>TRN</td>\n",
       "      <td>O=c1c(Br)ccc2n1CC1CNCC2C1</td>\n",
       "      <td>65</td>\n",
       "      <td>B</td>\n",
       "      <td>Ion channel</td>\n",
       "      <td>...</td>\n",
       "      <td>0</td>\n",
       "      <td>0</td>\n",
       "      <td>0</td>\n",
       "      <td>0</td>\n",
       "      <td>0</td>\n",
       "      <td>0</td>\n",
       "      <td>0</td>\n",
       "      <td>0</td>\n",
       "      <td>0</td>\n",
       "      <td>0</td>\n",
       "    </tr>\n",
       "    <tr>\n",
       "      <th>1</th>\n",
       "      <td>61</td>\n",
       "      <td>CHEMBL65324</td>\n",
       "      <td>157</td>\n",
       "      <td>8.60</td>\n",
       "      <td>8.6646</td>\n",
       "      <td>TRN</td>\n",
       "      <td>O=c1c(Cl)cc(Cl)c2n1CC1CNCC2C1</td>\n",
       "      <td>65</td>\n",
       "      <td>B</td>\n",
       "      <td>Ion channel</td>\n",
       "      <td>...</td>\n",
       "      <td>0</td>\n",
       "      <td>0</td>\n",
       "      <td>0</td>\n",
       "      <td>0</td>\n",
       "      <td>0</td>\n",
       "      <td>0</td>\n",
       "      <td>0</td>\n",
       "      <td>0</td>\n",
       "      <td>0</td>\n",
       "      <td>0</td>\n",
       "    </tr>\n",
       "    <tr>\n",
       "      <th>2</th>\n",
       "      <td>59</td>\n",
       "      <td>CHEMBL303358</td>\n",
       "      <td>157</td>\n",
       "      <td>7.91</td>\n",
       "      <td>9.0524</td>\n",
       "      <td>TST</td>\n",
       "      <td>C1=C(c2cncnc2)C2CCN1CC2</td>\n",
       "      <td>65</td>\n",
       "      <td>B</td>\n",
       "      <td>Ion channel</td>\n",
       "      <td>...</td>\n",
       "      <td>0</td>\n",
       "      <td>0</td>\n",
       "      <td>0</td>\n",
       "      <td>0</td>\n",
       "      <td>0</td>\n",
       "      <td>0</td>\n",
       "      <td>0</td>\n",
       "      <td>0</td>\n",
       "      <td>0</td>\n",
       "      <td>0</td>\n",
       "    </tr>\n",
       "    <tr>\n",
       "      <th>3</th>\n",
       "      <td>58</td>\n",
       "      <td>CHEMBL62858</td>\n",
       "      <td>157</td>\n",
       "      <td>10.77</td>\n",
       "      <td>10.6356</td>\n",
       "      <td>TRN</td>\n",
       "      <td>O=c1c(I)ccc2n1CC1CNCC2C1</td>\n",
       "      <td>65</td>\n",
       "      <td>B</td>\n",
       "      <td>Ion channel</td>\n",
       "      <td>...</td>\n",
       "      <td>0</td>\n",
       "      <td>0</td>\n",
       "      <td>0</td>\n",
       "      <td>0</td>\n",
       "      <td>0</td>\n",
       "      <td>0</td>\n",
       "      <td>0</td>\n",
       "      <td>0</td>\n",
       "      <td>0</td>\n",
       "      <td>0</td>\n",
       "    </tr>\n",
       "    <tr>\n",
       "      <th>4</th>\n",
       "      <td>57</td>\n",
       "      <td>CHEMBL305325</td>\n",
       "      <td>157</td>\n",
       "      <td>8.10</td>\n",
       "      <td>7.3667</td>\n",
       "      <td>TRN</td>\n",
       "      <td>C1=C(c2ccnnc2)C2CCC(C1)N2</td>\n",
       "      <td>65</td>\n",
       "      <td>B</td>\n",
       "      <td>Ion channel</td>\n",
       "      <td>...</td>\n",
       "      <td>0</td>\n",
       "      <td>0</td>\n",
       "      <td>0</td>\n",
       "      <td>0</td>\n",
       "      <td>0</td>\n",
       "      <td>0</td>\n",
       "      <td>0</td>\n",
       "      <td>0</td>\n",
       "      <td>0</td>\n",
       "      <td>0</td>\n",
       "    </tr>\n",
       "  </tbody>\n",
       "</table>\n",
       "<p>5 rows × 2058 columns</p>\n",
       "</div>"
      ],
      "text/plain": [
       "   index    CompoundID  assay_id  expt_pIC50  max2‐pQSAR_pIC50 Clustering  \\\n",
       "0      0  CHEMBL305106       157       11.00           10.7912        TRN   \n",
       "1     61   CHEMBL65324       157        8.60            8.6646        TRN   \n",
       "2     59  CHEMBL303358       157        7.91            9.0524        TST   \n",
       "3     58   CHEMBL62858       157       10.77           10.6356        TRN   \n",
       "4     57  CHEMBL305325       157        8.10            7.3667        TRN   \n",
       "\n",
       "                          smiles  #cmpd assay_type target_family  ...  \\\n",
       "0      O=c1c(Br)ccc2n1CC1CNCC2C1     65          B   Ion channel  ...   \n",
       "1  O=c1c(Cl)cc(Cl)c2n1CC1CNCC2C1     65          B   Ion channel  ...   \n",
       "2        C1=C(c2cncnc2)C2CCN1CC2     65          B   Ion channel  ...   \n",
       "3       O=c1c(I)ccc2n1CC1CNCC2C1     65          B   Ion channel  ...   \n",
       "4      C1=C(c2ccnnc2)C2CCC(C1)N2     65          B   Ion channel  ...   \n",
       "\n",
       "   smiles_morgan_2038  smiles_morgan_2039  smiles_morgan_2040  \\\n",
       "0                   0                   0                   0   \n",
       "1                   0                   0                   0   \n",
       "2                   0                   0                   0   \n",
       "3                   0                   0                   0   \n",
       "4                   0                   0                   0   \n",
       "\n",
       "   smiles_morgan_2041  smiles_morgan_2042  smiles_morgan_2043  \\\n",
       "0                   0                   0                   0   \n",
       "1                   0                   0                   0   \n",
       "2                   0                   0                   0   \n",
       "3                   0                   0                   0   \n",
       "4                   0                   0                   0   \n",
       "\n",
       "   smiles_morgan_2044  smiles_morgan_2045  smiles_morgan_2046  \\\n",
       "0                   0                   0                   0   \n",
       "1                   0                   0                   0   \n",
       "2                   0                   0                   0   \n",
       "3                   0                   0                   0   \n",
       "4                   0                   0                   0   \n",
       "\n",
       "   smiles_morgan_2047  \n",
       "0                   0  \n",
       "1                   0  \n",
       "2                   0  \n",
       "3                   0  \n",
       "4                   0  \n",
       "\n",
       "[5 rows x 2058 columns]"
      ]
     },
     "execution_count": 4,
     "metadata": {},
     "output_type": "execute_result"
    }
   ],
   "source": [
    "df = pd.read_parquet(file_path,\n",
    "                    )\n",
    "df.head()"
   ]
  },
  {
   "cell_type": "markdown",
   "id": "0fc4003d-23c8-4006-8b61-420e05c71ec6",
   "metadata": {},
   "source": [
    "## Description"
   ]
  },
  {
   "cell_type": "markdown",
   "id": "bb00306f-922a-482d-86c7-9566b3803219",
   "metadata": {},
   "source": [
    "### Series : expt_pIC50"
   ]
  },
  {
   "cell_type": "code",
   "execution_count": 5,
   "id": "63b3524e-2683-41ef-a6c5-74ed0d097285",
   "metadata": {},
   "outputs": [
    {
     "name": "stdout",
     "output_type": "stream",
     "text": [
      "count    1.368500e+06\n",
      "mean     5.359365e+00\n",
      "std      1.347229e+00\n",
      "min     -1.000000e+00\n",
      "25%      4.536200e+00\n",
      "50%      5.033000e+00\n",
      "75%      6.000000e+00\n",
      "max      1.430100e+01\n",
      "Name: expt_pIC50, dtype: float64\n"
     ]
    }
   ],
   "source": [
    "try:\n",
    "    print(df['expt_pIC50'].describe(include = 'all'))\n",
    "except FileNotFoundError:\n",
    "    print(\"Designated folder is absent\")\n",
    "except KeyError:\n",
    "    print(\"Key Error on 'Dataframe' and/or Series\")"
   ]
  },
  {
   "cell_type": "code",
   "execution_count": 6,
   "id": "a8bb4c65-9207-472c-a6ac-d7cfc388d8e3",
   "metadata": {},
   "outputs": [
    {
     "data": {
      "image/png": "[encoded data removed]",
      "text/plain": [
       "<Figure size 432x288 with 1 Axes>"
      ]
     },
     "metadata": {
      "needs_background": "light"
     },
     "output_type": "display_data"
    }
   ],
   "source": [
    "if os.path.isdir('../data/data_temp/default_{}/plots/'.format(fingerprint)) == False:\n",
    "    os.mkdir('../data/data_temp/default_{}/plots/'.format(fingerprint))\n",
    "\n",
    "try:\n",
    "    plt.boxplot(df['expt_pIC50'])\n",
    "    plt.savefig('../data/data_temp/default_{}/plots/expt_pIC50_boxplot.jpg'.format(fingerprint),\n",
    "               format='jpg',\n",
    "               )\n",
    "    plt.show()\n",
    "    # os.path.\n",
    "except FileNotFoundError:\n",
    "    print(\"Designated folder is absent\")\n",
    "except KeyError:\n",
    "    print(\"Key Error on 'Dataframe' and/or Series\")"
   ]
  },
  {
   "cell_type": "code",
   "execution_count": 7,
   "id": "fd79488b-0de6-414b-bd4a-63a6e9b0fb74",
   "metadata": {},
   "outputs": [
    {
     "data": {
      "image/png": "[encoded data removed]",
      "text/plain": [
       "<Figure size 432x288 with 1 Axes>"
      ]
     },
     "metadata": {
      "needs_background": "light"
     },
     "output_type": "display_data"
    }
   ],
   "source": [
    "try:\n",
    "    fig, ax = plt.subplots()\n",
    "    ax.hist(df['expt_pIC50'], bins=len(df['expt_pIC50'].unique()), edgecolor=\"red\")\n",
    "    plt.savefig('../data/data_temp/default_{}/plots/expt_pIC50_spread.jpg'.format(fingerprint),\n",
    "               format='jpg',\n",
    "               )\n",
    "    plt.show()\n",
    "except FileNotFoundError:\n",
    "    print(\"Designated folder is absent\")\n",
    "except KeyError:\n",
    "    print(\"Key Error on 'Dataframe' and/or Series\")"
   ]
  },
  {
   "cell_type": "code",
   "execution_count": 8,
   "id": "aa0b5a9f-953d-4b51-bbf6-0516364b4d38",
   "metadata": {},
   "outputs": [],
   "source": [
    "scaled_expt_pIC50 = RobustScaler(quantile_range=(10.0, 90.0)).fit_transform(df['expt_pIC50'].values.reshape(-1,1))"
   ]
  },
  {
   "cell_type": "code",
   "execution_count": 9,
   "id": "553d7f16-d960-4021-9828-62846a6aa664",
   "metadata": {},
   "outputs": [
    {
     "data": {
      "image/png": "[encoded data removed]",
      "text/plain": [
       "<Figure size 432x288 with 1 Axes>"
      ]
     },
     "metadata": {
      "needs_background": "light"
     },
     "output_type": "display_data"
    }
   ],
   "source": [
    "try:\n",
    "    plt.boxplot(scaled_expt_pIC50)\n",
    "    plt.savefig('../data/data_temp/default_{}/plots/expt_pIC50_boxplot_scaled.jpg'.format(fingerprint),\n",
    "               format='jpg',\n",
    "               )\n",
    "    plt.show()\n",
    "except FileNotFoundError:\n",
    "    print(\"Designated folder is absent\")\n",
    "except KeyError:\n",
    "    print(\"Key Error on 'Dataframe' and/or Series\")"
   ]
  },
  {
   "cell_type": "code",
   "execution_count": 10,
   "id": "437165a8-9a77-40c8-85a9-1caf87463b4d",
   "metadata": {},
   "outputs": [
    {
     "data": {
      "image/png": "[encoded data removed]",
      "text/plain": [
       "<Figure size 432x288 with 1 Axes>"
      ]
     },
     "metadata": {
      "needs_background": "light"
     },
     "output_type": "display_data"
    }
   ],
   "source": [
    "try:\n",
    "    fig, ax = plt.subplots()\n",
    "    ax.hist(scaled_expt_pIC50, bins=len(np.unique(scaled_expt_pIC50)), edgecolor=\"red\")\n",
    "    plt.savefig('../data/data_temp/default_{}/plots/expt_pIC50_spread_scaled.jpg'.format(fingerprint),\n",
    "                   format='jpg',\n",
    "               )\n",
    "    plt.show()\n",
    "except FileNotFoundError:\n",
    "     print(\"Designated folder is absent\")\n",
    "except KeyError:\n",
    "     print(\"Key Error on 'Dataframe' and/or Series\")"
   ]
  },
  {
   "cell_type": "markdown",
   "id": "d10495fe-47ea-40dc-95f0-580561f7f7d0",
   "metadata": {},
   "source": [
    "### Series : \tmax2‐pQSAR_pIC50"
   ]
  },
  {
   "cell_type": "code",
   "execution_count": 11,
   "id": "ea7488be-0b12-41f5-a22b-22e1df1ab210",
   "metadata": {},
   "outputs": [
    {
     "name": "stdout",
     "output_type": "stream",
     "text": [
      "count    1.368500e+06\n",
      "mean     5.361849e+00\n",
      "std      1.185197e+00\n",
      "min     -1.350900e+00\n",
      "25%      4.784000e+00\n",
      "50%      5.106300e+00\n",
      "75%      5.609000e+00\n",
      "max      1.451720e+01\n",
      "Name: max2‐pQSAR_pIC50, dtype: float64\n"
     ]
    }
   ],
   "source": [
    "try:\n",
    "    print(df['max2‐pQSAR_pIC50'].describe(include = 'all'))\n",
    "except:\n",
    "    print('`assay_id` column is not present')"
   ]
  },
  {
   "cell_type": "code",
   "execution_count": 12,
   "id": "281362c0-3c85-4063-aa54-48b1d7da55ab",
   "metadata": {},
   "outputs": [
    {
     "data": {
      "image/png": "[encoded data removed]",
      "text/plain": [
       "<Figure size 432x288 with 1 Axes>"
      ]
     },
     "metadata": {
      "needs_background": "light"
     },
     "output_type": "display_data"
    }
   ],
   "source": [
    "try:\n",
    "    plt.boxplot(df['max2‐pQSAR_pIC50'])\n",
    "    plt.savefig('../data/data_temp/default_{}/plots/max2‐pQSAR_pIC50_boxplot.jpg'.format(fingerprint),\n",
    "                format='jpg',\n",
    "               )\n",
    "    plt.show()\n",
    "except FileNotFoundError:\n",
    "    print(\"Designated folder is absent\")\n",
    "except KeyError:\n",
    "    print(\"Key Error on 'Dataframe' and/or Series\")"
   ]
  },
  {
   "cell_type": "code",
   "execution_count": 13,
   "id": "7bdf7d49-e07f-4d70-9629-d0234016ace4",
   "metadata": {},
   "outputs": [
    {
     "data": {
      "image/png": "[encoded data removed]",
      "text/plain": [
       "<Figure size 432x288 with 1 Axes>"
      ]
     },
     "metadata": {
      "needs_background": "light"
     },
     "output_type": "display_data"
    }
   ],
   "source": [
    "try:\n",
    "    fig, ax = plt.subplots()\n",
    "    ax.hist(df['max2‐pQSAR_pIC50'], bins=len(df['max2‐pQSAR_pIC50'].unique()), edgecolor=\"red\")\n",
    "    plt.savefig('../data/data_temp/default_{}/plots/max2‐pQSAR_pIC50_spread.jpg'.format(fingerprint),\n",
    "                format='jpg',\n",
    "               )\n",
    "    plt.show()\n",
    "except FileNotFoundError:\n",
    "    print(\"Designated folder is absent\")\n",
    "except KeyError:\n",
    "    print(\"Key Error on 'Dataframe' and/or Series\")"
   ]
  },
  {
   "cell_type": "code",
   "execution_count": 14,
   "id": "986d9b49-e1e8-43c9-9bb1-e1b5cdaa5bc9",
   "metadata": {},
   "outputs": [],
   "source": [
    "scaled_max2 = RobustScaler(quantile_range=(10.0, 90.0)).fit_transform(df['max2‐pQSAR_pIC50'].values.reshape(-1,1))"
   ]
  },
  {
   "cell_type": "code",
   "execution_count": 15,
   "id": "6572cd87-edd1-48ea-8f71-bcba47bb66c0",
   "metadata": {},
   "outputs": [
    {
     "data": {
      "image/png": "[encoded data removed]",
      "text/plain": [
       "<Figure size 432x288 with 1 Axes>"
      ]
     },
     "metadata": {
      "needs_background": "light"
     },
     "output_type": "display_data"
    }
   ],
   "source": [
    "try:\n",
    "    plt.boxplot(scaled_max2)\n",
    "    plt.savefig('../data/data_temp/default_{}/plots/max2‐pQSAR_pIC50_boxplot_scaled.jpg'.format(fingerprint),\n",
    "               format='jpg',\n",
    "               )\n",
    "    plt.show()\n",
    "except FileNotFoundError:\n",
    "    print(\"Designated folder is absent\")\n",
    "except KeyError:\n",
    "    print(\"Key Error on 'Dataframe' and/or Series\")"
   ]
  },
  {
   "cell_type": "code",
   "execution_count": 16,
   "id": "a100afc5-7d6d-4fdf-aa99-0c106ee641bc",
   "metadata": {},
   "outputs": [
    {
     "data": {
      "image/png": "[encoded data removed]",
      "text/plain": [
       "<Figure size 432x288 with 1 Axes>"
      ]
     },
     "metadata": {
      "needs_background": "light"
     },
     "output_type": "display_data"
    }
   ],
   "source": [
    "try:\n",
    "    fig, ax = plt.subplots()\n",
    "    ax.hist(scaled_max2, bins=len(np.unique(scaled_max2)), edgecolor=\"red\")\n",
    "    plt.savefig('../data/data_temp/default_{}/plots/max2‐pQSAR_pIC50_spread_scaled.jpg'.format(fingerprint),\n",
    "                   format='jpg',\n",
    "               )\n",
    "    plt.show()\n",
    "except FileNotFoundError:\n",
    "    print(\"Designated folder is absent\")\n",
    "except KeyError:\n",
    "    print(\"Key Error on 'Dataframe' and/or Series\")"
   ]
  },
  {
   "cell_type": "markdown",
   "id": "69f3c0f6-b853-4322-9484-a00f4a95edab",
   "metadata": {},
   "source": [
    "### Pearson's Coefficient"
   ]
  },
  {
   "cell_type": "code",
   "execution_count": 17,
   "id": "1684e677-5d4d-47ff-89c3-91cbf5bcae3c",
   "metadata": {},
   "outputs": [
    {
     "name": "stdout",
     "output_type": "stream",
     "text": [
      "[[1.         0.86731126]\n",
      " [0.86731126 1.        ]]\n"
     ]
    }
   ],
   "source": [
    "pearson_coeff = np.corrcoef(df['expt_pIC50'],df['max2‐pQSAR_pIC50'])\n",
    "print(pearson_coeff)"
   ]
  },
  {
   "cell_type": "markdown",
   "id": "ec902285-7fca-49ee-a314-3b36400f7e3c",
   "metadata": {},
   "source": [
    "## Assay-wise analysis"
   ]
  },
  {
   "cell_type": "code",
   "execution_count": 18,
   "id": "6b2f9057",
   "metadata": {},
   "outputs": [
    {
     "data": {
      "text/html": [
       "<div>\n",
       "<style scoped>\n",
       "    .dataframe tbody tr th:only-of-type {\n",
       "        vertical-align: middle;\n",
       "    }\n",
       "\n",
       "    .dataframe tbody tr th {\n",
       "        vertical-align: top;\n",
       "    }\n",
       "\n",
       "    .dataframe thead th {\n",
       "        text-align: right;\n",
       "    }\n",
       "</style>\n",
       "<table border=\"1\" class=\"dataframe\">\n",
       "  <thead>\n",
       "    <tr style=\"text-align: right;\">\n",
       "      <th></th>\n",
       "      <th>assay_id</th>\n",
       "      <th>squared_pearson_trn</th>\n",
       "      <th>squared_pearson_tst</th>\n",
       "      <th>assay_length_trn</th>\n",
       "      <th>assay_length_tst</th>\n",
       "      <th>assay_length_total</th>\n",
       "    </tr>\n",
       "  </thead>\n",
       "  <tbody>\n",
       "    <tr>\n",
       "      <th>0</th>\n",
       "      <td>157</td>\n",
       "      <td>0.962271</td>\n",
       "      <td>0.303112</td>\n",
       "      <td>48</td>\n",
       "      <td>17</td>\n",
       "      <td>65</td>\n",
       "    </tr>\n",
       "    <tr>\n",
       "      <th>1</th>\n",
       "      <td>517</td>\n",
       "      <td>0.980290</td>\n",
       "      <td>0.361949</td>\n",
       "      <td>52</td>\n",
       "      <td>18</td>\n",
       "      <td>70</td>\n",
       "    </tr>\n",
       "    <tr>\n",
       "      <th>2</th>\n",
       "      <td>535</td>\n",
       "      <td>0.998992</td>\n",
       "      <td>0.210145</td>\n",
       "      <td>51</td>\n",
       "      <td>18</td>\n",
       "      <td>69</td>\n",
       "    </tr>\n",
       "    <tr>\n",
       "      <th>3</th>\n",
       "      <td>831</td>\n",
       "      <td>0.951070</td>\n",
       "      <td>0.498864</td>\n",
       "      <td>41</td>\n",
       "      <td>14</td>\n",
       "      <td>55</td>\n",
       "    </tr>\n",
       "    <tr>\n",
       "      <th>4</th>\n",
       "      <td>924</td>\n",
       "      <td>0.951216</td>\n",
       "      <td>0.497933</td>\n",
       "      <td>60</td>\n",
       "      <td>21</td>\n",
       "      <td>81</td>\n",
       "    </tr>\n",
       "  </tbody>\n",
       "</table>\n",
       "</div>"
      ],
      "text/plain": [
       "   assay_id  squared_pearson_trn  squared_pearson_tst  assay_length_trn  \\\n",
       "0       157             0.962271             0.303112                48   \n",
       "1       517             0.980290             0.361949                52   \n",
       "2       535             0.998992             0.210145                51   \n",
       "3       831             0.951070             0.498864                41   \n",
       "4       924             0.951216             0.497933                60   \n",
       "\n",
       "   assay_length_tst  assay_length_total  \n",
       "0                17                  65  \n",
       "1                18                  70  \n",
       "2                18                  69  \n",
       "3                14                  55  \n",
       "4                21                  81  "
      ]
     },
     "execution_count": 18,
     "metadata": {},
     "output_type": "execute_result"
    }
   ],
   "source": [
    "pc_values=pd.read_parquet('../data/data_temp/default_{}/assay_id/assay_id_file.parquet'.format(fingerprint))\n",
    "pc_values.head()"
   ]
  },
  {
   "cell_type": "code",
   "execution_count": 21,
   "id": "420a3c3c",
   "metadata": {},
   "outputs": [
    {
     "name": "stdout",
     "output_type": "stream",
     "text": [
      "The mean of all pearson coefficient values are 0.7532119834848724\n"
     ]
    }
   ],
   "source": [
    "print(\"The mean of all pearson coefficient values are {}\".format(pc_values['squared_pearson_trn'].mean()))"
   ]
  },
  {
   "cell_type": "markdown",
   "id": "7b3e3208",
   "metadata": {},
   "source": [
    "Analysis of the first 500 assays"
   ]
  },
  {
   "cell_type": "code",
   "execution_count": 22,
   "id": "e49e58eb",
   "metadata": {},
   "outputs": [
    {
     "name": "stdout",
     "output_type": "stream",
     "text": [
      "The mean of all pearson coefficient values are 0.822738104523466\n"
     ]
    }
   ],
   "source": [
    "# Training \n",
    "print(\"The mean of all pearson coefficient values are {}\".format(pc_values['squared_pearson_trn'][0:500].mean()))"
   ]
  },
  {
   "cell_type": "code",
   "execution_count": 23,
   "id": "f5239826",
   "metadata": {},
   "outputs": [
    {
     "name": "stdout",
     "output_type": "stream",
     "text": [
      "The mean of all pearson coefficient values are 0.43526035110803624\n"
     ]
    }
   ],
   "source": [
    "print(\"The mean of all pearson coefficient values are {}\".format(pc_values['squared_pearson_tst'].mean()))"
   ]
  },
  {
   "cell_type": "markdown",
   "id": "5ce2b4c9",
   "metadata": {},
   "source": [
    "Analysis of the first 500 assays"
   ]
  },
  {
   "cell_type": "code",
   "execution_count": 24,
   "id": "2ffb577d",
   "metadata": {},
   "outputs": [
    {
     "name": "stdout",
     "output_type": "stream",
     "text": [
      "The mean of all pearson coefficient values are 0.43335261368830025\n"
     ]
    }
   ],
   "source": [
    "print(\"The mean of all pearson coefficient values are {}\".format(pc_values['squared_pearson_tst'][0:500].mean()))"
   ]
  },
  {
   "cell_type": "code",
   "execution_count": 25,
   "id": "5a6ac377-b663-4154-b372-4a8d15efcdb4",
   "metadata": {},
   "outputs": [
    {
     "name": "stdout",
     "output_type": "stream",
     "text": [
      "Key Error on 'Dataframe' and/or Series\n"
     ]
    }
   ],
   "source": [
    "if os.path.isdir('../data/data_temp/default_{}/plots_assay/'.format(fingerprint)) == False:\n",
    "    os.mkdir('../data/data_temp/default_{}/plots_assay/'.format(fingerprint))\n",
    "\n",
    "try:\n",
    "    plt.plot(pc_values['assay_id'],pc_values['pearson coefficient'])\n",
    "    plt.xlabel('assay_id')\n",
    "    plt.ylabel('pearson coefficient values')\n",
    "    plt.savefig('../data/data_temp/default_{}/plots_assay/assayID_vs_PCvalues.jpg'.format(fingerprint),\n",
    "                   format='jpg',\n",
    "               )\n",
    "    plt.show()\n",
    "except FileNotFoundError:\n",
    "    print(\"Designated folder is absent\")\n",
    "except KeyError:\n",
    "    print(\"Key Error on 'Dataframe' and/or Series\")"
   ]
  },
  {
   "cell_type": "markdown",
   "id": "9a10915d-6936-4cf7-8267-d0931972f88e",
   "metadata": {},
   "source": [
    "### Saving cleaned smiles dataset"
   ]
  },
  {
   "cell_type": "code",
   "execution_count": 26,
   "id": "bea27c73-ff5c-458d-8448-600d1e1a9804",
   "metadata": {},
   "outputs": [],
   "source": [
    "from rdkit import Chem\n",
    "from rdkit.Chem import RDKFingerprint\n",
    "from rdkit.Chem import rdMolDescriptors as rdmd"
   ]
  },
  {
   "cell_type": "code",
   "execution_count": 27,
   "id": "dce5cf0c-7cdc-4c97-a9a5-65d0ac72bcdb",
   "metadata": {},
   "outputs": [],
   "source": [
    "for row in df.itertuples():\n",
    "    mol = Chem.MolFromSmiles(row.smiles)\n",
    "    if mol is None:\n",
    "        print('{} row molecule is tarnished'.format(row.CompoundID))"
   ]
  }
 ],
 "metadata": {
  "kernelspec": {
   "display_name": "Python 3 (ipykernel)",
   "language": "python",
   "name": "python3"
  },
  "language_info": {
   "codemirror_mode": {
    "name": "ipython",
    "version": 3
   },
   "file_extension": ".py",
   "mimetype": "text/x-python",
   "name": "python",
   "nbconvert_exporter": "python",
   "pygments_lexer": "ipython3",
   "version": "3.9.10"
  }
 },
 "nbformat": 4,
 "nbformat_minor": 5
}
