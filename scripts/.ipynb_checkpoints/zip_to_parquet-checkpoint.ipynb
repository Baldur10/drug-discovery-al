{
 "cells": [
  {
   "cell_type": "code",
   "execution_count": 6,
   "id": "8d757730-c09f-4f02-9338-1f85413111e5",
   "metadata": {},
   "outputs": [],
   "source": [
    "import argparse\n",
    "import gzip\n",
    "from pathlib import Path\n",
    "import dask.dataframe as dd\n",
    "import numpy as np\n",
    "import os"
   ]
  },
  {
   "cell_type": "code",
   "execution_count": 2,
   "id": "215e39cf-40f1-48d4-8f83-04d331970652",
   "metadata": {},
   "outputs": [],
   "source": [
    "def get_parquet(library: str, output: str, delimiter: str=',') -> str:\n",
    "    if Path(library).suffix == \".gz\":\n",
    "        with gzip.open(library, mode='rt') as f:\n",
    "            df = dd.read_csv(f, delimiter=delimiter,\n",
    "                             on_bad_lines='warn', \n",
    "                             skip_blank_lines=True)\n",
    "            df = df.dropna()\n",
    "            print(df.compute().head())\n",
    "            try:\n",
    "                df.compute().to_parquet(output)\n",
    "            except:\n",
    "                print('Storage File \".parquet\" unable to be written')\n",
    "    else:\n",
    "        print('Incompatible archive file. Only .gz worked')"
   ]
  },
  {
   "cell_type": "code",
   "execution_count": 3,
   "id": "36347edf-5613-4084-8454-66cfc8489802",
   "metadata": {},
   "outputs": [],
   "source": [
    "def main():\n",
    "    parser=argparse.ArgumentParser()\n",
    "    parser.add_argument('--library','-l', required=True,\n",
    "                       help = 'the library to read from')\n",
    "    parser.add_argument('--output_file','-o', default='/temp_data/preprocessed/default.parquet',\n",
    "                       help = 'the output parquet file to be written to')\n",
    "    args = parser.parse_args()\n",
    "    print(args)"
   ]
  },
  {
   "cell_type": "code",
   "execution_count": null,
   "id": "356b0218-1d6e-49bd-8ed1-8583a895287f",
   "metadata": {},
   "outputs": [],
   "source": []
  },
  {
   "cell_type": "code",
   "execution_count": 10,
   "id": "ba73a498-8e86-4553-b52c-61418c3ec8bb",
   "metadata": {},
   "outputs": [
    {
     "name": "stdout",
     "output_type": "stream",
     "text": [
      "File absent\n"
     ]
    }
   ],
   "source": [
    "try:\n",
    "    with gzip.open('/datasets/libraries/Enamine10k.csv.gz', mode='rt') as f:\n",
    "        os.getcwd()\n",
    "        print('File present.')\n",
    "        f.close()\n",
    "except:\n",
    "    print('File absent')"
   ]
  },
  {
   "cell_type": "code",
   "execution_count": 4,
   "id": "bf871f7a-2e7f-4a78-aef6-14141c17280d",
   "metadata": {},
   "outputs": [
    {
     "name": "stdout",
     "output_type": "stream",
     "text": [
      "D:\\Github\\drug-discovery-al\\scripts\n"
     ]
    }
   ],
   "source": [
    "import os \n",
    "dir_path =os.path.realpath(os.getcwd())\n",
    "print(dir_path)"
   ]
  },
  {
   "cell_type": "code",
   "execution_count": 5,
   "id": "2a965fc8-5cce-4b6f-bb48-e43356e6c0c9",
   "metadata": {},
   "outputs": [
    {
     "name": "stdout",
     "output_type": "stream",
     "text": [
      "D:\\Github\\drug-discovery-al\n"
     ]
    }
   ],
   "source": [
    "path_parent = os.path.dirname(os.getcwd())\n",
    "#temp = os.chdir(path_parent)\n",
    "print(path_parent)"
   ]
  },
  {
   "cell_type": "code",
   "execution_count": null,
   "id": "24fa628c-b191-4875-b36c-190dc4304426",
   "metadata": {},
   "outputs": [],
   "source": [
    "os.getcwd()"
   ]
  },
  {
   "cell_type": "code",
   "execution_count": null,
   "id": "026c8cdb-5d67-4c9c-a7f7-bc08c59e37a4",
   "metadata": {},
   "outputs": [],
   "source": [
    "try:\n",
    "    with gzip.open('datasets/libraries/Enamine10k.csv.gz', mode='rt') as f:\n",
    "        print('File present.')\n",
    "        f.close()\n",
    "except:\n",
    "    print('File absent')"
   ]
  },
  {
   "cell_type": "code",
   "execution_count": null,
   "id": "198d9a03-f605-4016-ad8e-a8a5b740dd22",
   "metadata": {},
   "outputs": [],
   "source": [
    "if __name__ == \"__main__\":\n",
    "    main()"
   ]
  },
  {
   "cell_type": "code",
   "execution_count": null,
   "id": "14253e9f-0cbf-4cd2-b6fd-1e21d0126f23",
   "metadata": {},
   "outputs": [],
   "source": []
  }
 ],
 "metadata": {
  "kernelspec": {
   "display_name": "Python 3 (ipykernel)",
   "language": "python",
   "name": "python3"
  },
  "language_info": {
   "codemirror_mode": {
    "name": "ipython",
    "version": 3
   },
   "file_extension": ".py",
   "mimetype": "text/x-python",
   "name": "python",
   "nbconvert_exporter": "python",
   "pygments_lexer": "ipython3",
   "version": "3.9.7"
  }
 },
 "nbformat": 4,
 "nbformat_minor": 5
}
