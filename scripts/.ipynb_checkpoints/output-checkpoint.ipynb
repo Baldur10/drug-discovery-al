{
 "cells": [
  {
   "cell_type": "markdown",
   "id": "6fe312fc",
   "metadata": {
    "tags": [
     "papermill-error-cell-tag"
    ]
   },
   "source": [
    "<span style=\"color:red; font-family:Helvetica Neue, Helvetica, Arial, sans-serif; font-size:2em;\">An Exception was encountered at '<a href=\"#papermill-error-cell\">In [1]</a>'.</span>"
   ]
  },
  {
   "cell_type": "markdown",
   "id": "9a02bd70-4015-49f6-b412-9907cfe78e2c",
   "metadata": {
    "papermill": {
     "duration": 0.010007,
     "end_time": "2022-01-20T13:20:23.926380",
     "exception": false,
     "start_time": "2022-01-20T13:20:23.916373",
     "status": "completed"
    },
    "tags": []
   },
   "source": [
    "# FYP - Drug Design Active Learning : Dataset Generation"
   ]
  },
  {
   "cell_type": "markdown",
   "id": "eb9c0e2d-713e-46cc-825b-2b89719af10e",
   "metadata": {
    "papermill": {
     "duration": 0.010038,
     "end_time": "2022-01-20T13:20:23.946411",
     "exception": false,
     "start_time": "2022-01-20T13:20:23.936373",
     "status": "completed"
    },
    "tags": []
   },
   "source": [
    "A simple script to pre-process the dirty data from the 3 given datasets and combine them in an intelligent manner to be used later."
   ]
  },
  {
   "cell_type": "markdown",
   "id": "46c8b7b8-78bf-48b5-902a-8ae3994f71ce",
   "metadata": {
    "papermill": {
     "duration": 0.010025,
     "end_time": "2022-01-20T13:20:23.966399",
     "exception": false,
     "start_time": "2022-01-20T13:20:23.956374",
     "status": "completed"
    },
    "tags": []
   },
   "source": [
    "Requirements -\n",
    "1. PyArrow\n",
    "2. tqdm"
   ]
  },
  {
   "cell_type": "markdown",
   "id": "aa58a739",
   "metadata": {
    "tags": [
     "papermill-error-cell-tag"
    ]
   },
   "source": [
    "<span id=\"papermill-error-cell\" style=\"color:red; font-family:Helvetica Neue, Helvetica, Arial, sans-serif; font-size:2em;\">Execution using papermill encountered an exception here and stopped:</span>"
   ]
  },
  {
   "cell_type": "code",
   "execution_count": 1,
   "id": "28389b01-66e6-4e0c-a72d-287846b08024",
   "metadata": {
    "execution": {
     "iopub.execute_input": "2022-01-20T13:20:23.991382Z",
     "iopub.status.busy": "2022-01-20T13:20:23.991382Z",
     "iopub.status.idle": "2022-01-20T13:20:24.371916Z",
     "shell.execute_reply": "2022-01-20T13:20:24.370917Z"
    },
    "papermill": {
     "duration": 0.396527,
     "end_time": "2022-01-20T13:20:24.371916",
     "exception": true,
     "start_time": "2022-01-20T13:20:23.975389",
     "status": "failed"
    },
    "tags": []
   },
   "outputs": [
    {
     "ename": "ModuleNotFoundError",
     "evalue": "No module named 'dask'",
     "output_type": "error",
     "traceback": [
      "\u001b[1;31m---------------------------------------------------------------------------\u001b[0m",
      "\u001b[1;31mModuleNotFoundError\u001b[0m                       Traceback (most recent call last)",
      "Input \u001b[1;32mIn [1]\u001b[0m, in \u001b[0;36m<module>\u001b[1;34m\u001b[0m\n\u001b[1;32m----> 1\u001b[0m \u001b[38;5;28;01mfrom\u001b[39;00m \u001b[38;5;21;01mdask\u001b[39;00m\u001b[38;5;21;01m.\u001b[39;00m\u001b[38;5;21;01mdistributed\u001b[39;00m \u001b[38;5;28;01mimport\u001b[39;00m Client, progress\n\u001b[0;32m      2\u001b[0m \u001b[38;5;28;01mimport\u001b[39;00m \u001b[38;5;21;01mdask\u001b[39;00m\u001b[38;5;21;01m.\u001b[39;00m\u001b[38;5;21;01mdataframe\u001b[39;00m \u001b[38;5;28;01mas\u001b[39;00m \u001b[38;5;21;01mdd\u001b[39;00m\n\u001b[0;32m      3\u001b[0m \u001b[38;5;28;01mimport\u001b[39;00m \u001b[38;5;21;01mnumpy\u001b[39;00m \u001b[38;5;28;01mas\u001b[39;00m \u001b[38;5;21;01mnp\u001b[39;00m\n",
      "\u001b[1;31mModuleNotFoundError\u001b[0m: No module named 'dask'"
     ]
    }
   ],
   "source": [
    "from dask.distributed import Client, progress\n",
    "import dask.dataframe as dd\n",
    "import numpy as np\n",
    "import os"
   ]
  },
  {
   "cell_type": "code",
   "execution_count": null,
   "id": "98a4430c-a480-4b44-a1f1-c6934fddcb68",
   "metadata": {
    "papermill": {
     "duration": null,
     "end_time": null,
     "exception": null,
     "start_time": null,
     "status": "pending"
    },
    "scrolled": true,
    "tags": []
   },
   "outputs": [],
   "source": [
    "path_1 = os.path.dirname(os.getcwd()) + '/datasets/ci9b00375_si_001.txt'\n",
    "path_tableS2 = os.path.dirname(os.getcwd()) + '/datasets/ci9b00375_si_002.txt'\n",
    "path_tableS3 = os.path.dirname(os.getcwd()) + '/datasets/ci9b00375_si_003.txt'\n",
    "os.path.isfile(path_1)\n"
   ]
  },
  {
   "cell_type": "code",
   "execution_count": null,
   "id": "8d587f94-3779-463c-9f28-52e8d1007002",
   "metadata": {
    "papermill": {
     "duration": null,
     "end_time": null,
     "exception": null,
     "start_time": null,
     "status": "pending"
    },
    "tags": []
   },
   "outputs": [],
   "source": [
    "df_1 = dd.read_csv(path_1,\n",
    "                   dtype= {'#cmpd':np.int64},\n",
    "                   sep='\\t',\n",
    "                   on_bad_lines='warn')\n",
    "df_1 = df_1.dropna()"
   ]
  },
  {
   "cell_type": "code",
   "execution_count": null,
   "id": "969d57be-9e91-441b-a9df-35aeeb78f5e3",
   "metadata": {
    "papermill": {
     "duration": null,
     "end_time": null,
     "exception": null,
     "start_time": null,
     "status": "pending"
    },
    "tags": []
   },
   "outputs": [],
   "source": [
    "df_1.compute().tail()"
   ]
  },
  {
   "cell_type": "code",
   "execution_count": null,
   "id": "64cdfb4c-5df6-4a4d-86ce-9bc5a3fbe74a",
   "metadata": {
    "papermill": {
     "duration": null,
     "end_time": null,
     "exception": null,
     "start_time": null,
     "status": "pending"
    },
    "tags": []
   },
   "outputs": [],
   "source": [
    "df_table2 = dd.read_csv(path_tableS2,\n",
    "                        sep=' ',\n",
    "                        usecols = ['CompoundID', 'AssayID', 'expt_pIC50', 'max2‐pQSAR_pIC50', 'Clustering'],\n",
    "                        dtype=str,\n",
    "                        #dtype = {'AssayID':np.int64,\n",
    "                        #         'expt_pIC50':np.double,\n",
    "                        #         'max2‐pQSAR_pIC50':np.double\n",
    "                        #        },\n",
    "                        skiprows=46,\n",
    "                        on_bad_lines='warn', \n",
    "                        skip_blank_lines=True)\n",
    "\n",
    "df_table2['expt_pIC50'] = df_table2['expt_pIC50'].str.replace('\\u2010', '-', regex=False).astype(np.float32)\n",
    "df_table2['max2‐pQSAR_pIC50'] = df_table2['max2‐pQSAR_pIC50'].str.replace('\\u2010', '-', regex=False).astype(np.float32)\n",
    "df_table2 = df_table2.dropna()\n",
    "df_table2['AssayID'] = df_table2['AssayID'].astype(np.int64)\n",
    "df_table2 = df_table2.rename(columns = {'AssayID':'assay_id'})"
   ]
  },
  {
   "cell_type": "code",
   "execution_count": null,
   "id": "aebc0225-b389-401b-a833-2337195fe3f5",
   "metadata": {
    "papermill": {
     "duration": null,
     "end_time": null,
     "exception": null,
     "start_time": null,
     "status": "pending"
    },
    "tags": []
   },
   "outputs": [],
   "source": [
    "df_table2.compute().tail()"
   ]
  },
  {
   "cell_type": "code",
   "execution_count": null,
   "id": "a0629416-b4e6-44d4-98fd-fdeaa6927658",
   "metadata": {
    "papermill": {
     "duration": null,
     "end_time": null,
     "exception": null,
     "start_time": null,
     "status": "pending"
    },
    "tags": []
   },
   "outputs": [],
   "source": [
    "df_table3 = dd.read_csv(path_tableS3,\n",
    "                        sep=',',\n",
    "                        #usecols = ['CompoundID', 'AssayID', 'expt_pIC50', 'max2‐pQSAR_pIC50', 'Clustering'],\n",
    "                        dtype=str,\n",
    "                        #dtype = {'AssayID':np.int64,\n",
    "                        #         'expt_pIC50':np.double,\n",
    "                        #         'max2‐pQSAR_pIC50':np.double\n",
    "                        #        },\n",
    "                        skiprows=47,\n",
    "                        on_bad_lines='warn', \n",
    "                        skip_blank_lines=True)\n",
    "df_table3 = df_table3.dropna()\n",
    "df_table3['SMILES'] = df_table3['SMILES'].str.replace('\\u2010', '-', regex=False)"
   ]
  },
  {
   "cell_type": "code",
   "execution_count": null,
   "id": "aaf0c0b4-ca1d-4451-ab37-2b5b83f6bf11",
   "metadata": {
    "papermill": {
     "duration": null,
     "end_time": null,
     "exception": null,
     "start_time": null,
     "status": "pending"
    },
    "tags": []
   },
   "outputs": [],
   "source": [
    "df_table3.compute().tail()"
   ]
  },
  {
   "cell_type": "code",
   "execution_count": null,
   "id": "f4a0f7c8-d902-4453-a267-36d825fb8158",
   "metadata": {
    "papermill": {
     "duration": null,
     "end_time": null,
     "exception": null,
     "start_time": null,
     "status": "pending"
    },
    "tags": []
   },
   "outputs": [],
   "source": [
    "temp_df = dd.merge(df_table2,df_table3,\n",
    "                  how='left',\n",
    "                  on='CompoundID',\n",
    "                  )"
   ]
  },
  {
   "cell_type": "code",
   "execution_count": null,
   "id": "383bb49d-57d4-40d1-bb46-8ba1b2d3a664",
   "metadata": {
    "papermill": {
     "duration": null,
     "end_time": null,
     "exception": null,
     "start_time": null,
     "status": "pending"
    },
    "tags": []
   },
   "outputs": [],
   "source": [
    "temp_df.compute().info()"
   ]
  },
  {
   "cell_type": "code",
   "execution_count": null,
   "id": "f57bd79c-750f-4733-a85f-0ce992a97ada",
   "metadata": {
    "papermill": {
     "duration": null,
     "end_time": null,
     "exception": null,
     "start_time": null,
     "status": "pending"
    },
    "tags": []
   },
   "outputs": [],
   "source": [
    "temp_df.tail()"
   ]
  },
  {
   "cell_type": "code",
   "execution_count": null,
   "id": "124d7895-3bd9-4197-84f3-25ccaf6e9eb4",
   "metadata": {
    "papermill": {
     "duration": null,
     "end_time": null,
     "exception": null,
     "start_time": null,
     "status": "pending"
    },
    "tags": []
   },
   "outputs": [],
   "source": [
    "temp_df = dd.merge(temp_df,df_1,\n",
    "                  how='left',\n",
    "                  on='assay_id',\n",
    "                  )\n",
    "temp_df = temp_df.rename(columns = {'SMILES':'smiles'})"
   ]
  },
  {
   "cell_type": "code",
   "execution_count": null,
   "id": "9632205e-14f1-4748-a4db-10b9a3665f5b",
   "metadata": {
    "papermill": {
     "duration": null,
     "end_time": null,
     "exception": null,
     "start_time": null,
     "status": "pending"
    },
    "tags": []
   },
   "outputs": [],
   "source": [
    "temp_df.compute().info()"
   ]
  },
  {
   "cell_type": "code",
   "execution_count": null,
   "id": "2e19df0c-8853-4dd9-b48d-9d1f458aa7bd",
   "metadata": {
    "papermill": {
     "duration": null,
     "end_time": null,
     "exception": null,
     "start_time": null,
     "status": "pending"
    },
    "tags": []
   },
   "outputs": [],
   "source": [
    "temp_df.compute().tail()"
   ]
  },
  {
   "cell_type": "code",
   "execution_count": null,
   "id": "6a065c93-2b3a-472c-9cbd-4c5090e48c30",
   "metadata": {
    "papermill": {
     "duration": null,
     "end_time": null,
     "exception": null,
     "start_time": null,
     "status": "pending"
    },
    "tags": []
   },
   "outputs": [],
   "source": [
    "molecular_space = temp_df.compute()[['CompoundID','smiles']].drop_duplicates(subset='CompoundID')\n",
    "molecular_space.head()"
   ]
  },
  {
   "cell_type": "code",
   "execution_count": null,
   "id": "e28355db-290d-46c3-9f8e-3d2d9508b905",
   "metadata": {
    "papermill": {
     "duration": null,
     "end_time": null,
     "exception": null,
     "start_time": null,
     "status": "pending"
    },
    "tags": []
   },
   "outputs": [],
   "source": [
    "assay_id_space = temp_df.compute().drop_duplicates(subset=['assay_id','#cmpd'])[['assay_id','#cmpd']]\n",
    "assay_id_space.head()"
   ]
  },
  {
   "cell_type": "code",
   "execution_count": null,
   "id": "2d3dedd3-5cb3-4386-b19b-0164fc71a61f",
   "metadata": {
    "papermill": {
     "duration": null,
     "end_time": null,
     "exception": null,
     "start_time": null,
     "status": "pending"
    },
    "tags": []
   },
   "outputs": [],
   "source": [
    "len(assay_id_space)"
   ]
  },
  {
   "cell_type": "code",
   "execution_count": null,
   "id": "072819d4-59ee-4ee2-af74-a954c503995f",
   "metadata": {
    "papermill": {
     "duration": null,
     "end_time": null,
     "exception": null,
     "start_time": null,
     "status": "pending"
    },
    "tags": []
   },
   "outputs": [],
   "source": [
    "target_family_space = temp_df.compute().drop_duplicates(subset=['assay_type','target_family'])[['assay_type','target_family']]\n",
    "target_family_space.head()"
   ]
  },
  {
   "cell_type": "code",
   "execution_count": null,
   "id": "947b792b-a464-4d59-a766-8ecd38a44757",
   "metadata": {
    "papermill": {
     "duration": null,
     "end_time": null,
     "exception": null,
     "start_time": null,
     "status": "pending"
    },
    "tags": []
   },
   "outputs": [],
   "source": [
    "len(target_family_space)"
   ]
  },
  {
   "cell_type": "code",
   "execution_count": null,
   "id": "7e2259bb-9655-4ff8-ba99-3a36bbe73382",
   "metadata": {
    "papermill": {
     "duration": null,
     "end_time": null,
     "exception": null,
     "start_time": null,
     "status": "pending"
    },
    "tags": []
   },
   "outputs": [],
   "source": [
    "if os.path.isdir(os.path.dirname(os.getcwd())+ '/temp_data/default/') == False:\n",
    "    os.mkdir(os.path.dirname(os.getcwd())+ '/temp_data/default/')\n",
    "# Saving the complete preprocessed file\n",
    "try:\n",
    "    temp_df.compute().to_csv(os.path.dirname(os.getcwd()) +'/temp_data/default/pre_processed_file.csv')\n",
    "except FileNotFoundError:\n",
    "    print('Storage File \".csv\" unable to be written')\n",
    "    \n",
    "try:\n",
    "    temp_df.compute().to_parquet(os.path.dirname(os.getcwd()) + '/temp_data/default/pre_processed_file.parquet')\n",
    "except FileNotFoundError:\n",
    "    print('Storage File \".parquet\" unable to be written')\n",
    "\n",
    "# Saving the molecular space file\n",
    "try:\n",
    "    molecular_space.to_csv(os.path.dirname(os.getcwd()) + '/temp_data/default/molecular_space_file.csv')\n",
    "except FileNotFoundError:\n",
    "    print('Molecular Space \".csv\" unable to be written')\n",
    "    \n",
    "try:\n",
    "    molecular_space.to_parquet(os.path.dirname(os.getcwd()) + '/temp_data/default/molecular_space_file.parquet')\n",
    "except FileNotFoundError:\n",
    "    print('Molecular Space \".parquet\" unable to be written')\n",
    "\n",
    "# Saving the assay_id + compound_id file\n",
    "try:\n",
    "    assay_id_space.to_csv(os.path.dirname(os.getcwd()) + '/temp_data/default/assay_id_file.csv')\n",
    "except FileNotFoundError:\n",
    "    print('Assay ID list \".csv\" unable to be written')\n",
    "    \n",
    "try:\n",
    "    assay_id_space.to_parquet(os.path.dirname(os.getcwd()) + '/temp_data/default/assay_id_file.parquet')\n",
    "except FileNotFoundError:\n",
    "    print('Assay ID list \".parquet\" unable to be written')\n",
    "\n",
    "# Saving the assay_type + target_family file\n",
    "try:\n",
    "    target_family_space.to_csv(os.path.dirname(os.getcwd()) + '/temp_data/default/target_family_file.csv')\n",
    "except FileNotFoundError:\n",
    "    print('Target family list \".csv\" unable to be written')\n",
    "    \n",
    "try:\n",
    "    target_family_space.to_parquet(os.path.dirname(os.getcwd()) + '/temp_data/default/target_family_file.parquet')\n",
    "except FileNotFoundError:\n",
    "    print('Target family list \".parquet\" unable to be written')\n",
    "\n"
   ]
  },
  {
   "cell_type": "code",
   "execution_count": null,
   "id": "9654b055-605d-412f-92fb-09b6fd8f5762",
   "metadata": {
    "papermill": {
     "duration": null,
     "end_time": null,
     "exception": null,
     "start_time": null,
     "status": "pending"
    },
    "tags": []
   },
   "outputs": [],
   "source": []
  }
 ],
 "metadata": {
  "kernelspec": {
   "display_name": "Python 3 (ipykernel)",
   "language": "python",
   "name": "python3"
  },
  "language_info": {
   "codemirror_mode": {
    "name": "ipython",
    "version": 3
   },
   "file_extension": ".py",
   "mimetype": "text/x-python",
   "name": "python",
   "nbconvert_exporter": "python",
   "pygments_lexer": "ipython3",
   "version": "3.9.10"
  },
  "papermill": {
   "default_parameters": {},
   "duration": 1.995385,
   "end_time": "2022-01-20T13:20:24.607076",
   "environment_variables": {},
   "exception": true,
   "input_path": "scripts/dataset_generation.ipynb",
   "output_path": "scripts/output.ipynb",
   "parameters": {},
   "start_time": "2022-01-20T13:20:22.611691",
   "version": "2.3.3"
  }
 },
 "nbformat": 4,
 "nbformat_minor": 5
}