{
 "cells": [
  {
   "cell_type": "code",
   "execution_count": null,
   "id": "d3effde8-8211-45e2-8eca-96a7636b5802",
   "metadata": {},
   "outputs": [],
   "source": [
    "import argparse\n",
    "from functools import partial"
   ]
  }
 ],
 "metadata": {
  "kernelspec": {
   "display_name": "Python 3 (ipykernel)",
   "language": "python",
   "name": "python3"
  },
  "language_info": {
   "codemirror_mode": {
    "name": "ipython",
    "version": 3
   },
   "file_extension": ".py",
   "mimetype": "text/x-python",
   "name": "python",
   "nbconvert_exporter": "python",
   "pygments_lexer": "ipython3",
   "version": "3.9.7"
  }
 },
 "nbformat": 4,
 "nbformat_minor": 5
}
