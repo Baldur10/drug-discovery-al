{
 "cells": [
  {
   "cell_type": "markdown",
   "id": "fbdc70ce-6d19-4200-ab48-ca9a3cc8e246",
   "metadata": {
    "tags": []
   },
   "source": [
    "# Modifying the `ci9b00375_si_003.txt` file"
   ]
  },
  {
   "cell_type": "code",
   "execution_count": 1,
   "id": "7efd8590-eec2-44aa-a946-f464a46eda71",
   "metadata": {},
   "outputs": [],
   "source": [
    "import pandas as pd\n",
    "import os"
   ]
  },
  {
   "cell_type": "code",
   "execution_count": 2,
   "id": "2f99a48b-2534-48dd-9b8c-b4773acc9b61",
   "metadata": {},
   "outputs": [],
   "source": [
    "df = pd.read_csv(os.path.dirname(os.getcwd()) + '/data/datasets/ci9b00375_si_003.txt',\n",
    "                 sep=' ',\n",
    "                 dtype=str,\n",
    "                 skiprows=47,\n",
    "                 on_bad_lines='warn', \n",
    "                 skip_blank_lines=True,\n",
    "                 skipinitialspace = True)"
   ]
  },
  {
   "cell_type": "code",
   "execution_count": 3,
   "id": "5f099feb-a8fc-4572-aa57-980b71b48dc4",
   "metadata": {},
   "outputs": [
    {
     "name": "stdout",
     "output_type": "stream",
     "text": [
      "(552221, 1) -+- Index(['CompoundID,SMILES'], dtype='object')\n"
     ]
    }
   ],
   "source": [
    "print('{} -+- {}'.format(df.shape, df.columns))"
   ]
  },
  {
   "cell_type": "code",
   "execution_count": 4,
   "id": "af6b2f35-76e0-4e44-913e-f646aba9ddf4",
   "metadata": {},
   "outputs": [
    {
     "data": {
      "text/plain": [
       "0         CHEMBL35001,COC(=O)Nc1ccc(Cl)c(‐c2nc3cc(C)ccc3...\n",
       "1         CHEMBL35211,COC(=O)Nc1ccc(OC)c(‐c2nc3cc(C)ccc3...\n",
       "2         CHEMBL35333,COC(=O)Nc1ccc(Cl)c(‐c2nc3ccc(C)cc3...\n",
       "3         CHEMBL35967,C#CCNC(=O)Nc1ccc(Cl)c(‐c2nc3cc(Cl)...\n",
       "4          CHEMBL35458,COC(=O)Nc1ccc(Cl)c(‐c2nc3ccccc3o2)c1\n",
       "                                ...                        \n",
       "552216    CHEMBL2449545,Cc1ccc(C(=O)N2c3ccccc3C(N3CCCC3)...\n",
       "552217    CHEMBL2449546,Cc1ccc(C(=O)OC2C(C)Nc3ccccc3C2N2...\n",
       "552218    CHEMBL2449547,CCN(CC)CCCC(C)NC1c2ccccc2N(C(=O)...\n",
       "552219    CHEMBL2449548,CCN(CC)CCCC(C)NC1c2ccccc2NC(C)C1...\n",
       "552220                                           Page 11045\n",
       "Name: CompoundID,SMILES, Length: 552221, dtype: object"
      ]
     },
     "execution_count": 4,
     "metadata": {},
     "output_type": "execute_result"
    }
   ],
   "source": [
    "df['CompoundID,SMILES'].str.strip()"
   ]
  },
  {
   "cell_type": "code",
   "execution_count": 5,
   "id": "d30e1fe6-5b24-4275-bbc8-5c84fee35829",
   "metadata": {},
   "outputs": [
    {
     "data": {
      "text/html": [
       "<div>\n",
       "<style scoped>\n",
       "    .dataframe tbody tr th:only-of-type {\n",
       "        vertical-align: middle;\n",
       "    }\n",
       "\n",
       "    .dataframe tbody tr th {\n",
       "        vertical-align: top;\n",
       "    }\n",
       "\n",
       "    .dataframe thead th {\n",
       "        text-align: right;\n",
       "    }\n",
       "</style>\n",
       "<table border=\"1\" class=\"dataframe\">\n",
       "  <thead>\n",
       "    <tr style=\"text-align: right;\">\n",
       "      <th></th>\n",
       "      <th>CompoundID,SMILES</th>\n",
       "    </tr>\n",
       "  </thead>\n",
       "  <tbody>\n",
       "    <tr>\n",
       "      <th>0</th>\n",
       "      <td>CHEMBL35001,COC(=O)Nc1ccc(Cl)c(‐c2nc3cc(C)ccc3...</td>\n",
       "    </tr>\n",
       "    <tr>\n",
       "      <th>1</th>\n",
       "      <td>CHEMBL35211,COC(=O)Nc1ccc(OC)c(‐c2nc3cc(C)ccc3...</td>\n",
       "    </tr>\n",
       "    <tr>\n",
       "      <th>2</th>\n",
       "      <td>CHEMBL35333,COC(=O)Nc1ccc(Cl)c(‐c2nc3ccc(C)cc3...</td>\n",
       "    </tr>\n",
       "    <tr>\n",
       "      <th>3</th>\n",
       "      <td>CHEMBL35967,C#CCNC(=O)Nc1ccc(Cl)c(‐c2nc3cc(Cl)...</td>\n",
       "    </tr>\n",
       "    <tr>\n",
       "      <th>4</th>\n",
       "      <td>CHEMBL35458,COC(=O)Nc1ccc(Cl)c(‐c2nc3ccccc3o2)c1</td>\n",
       "    </tr>\n",
       "  </tbody>\n",
       "</table>\n",
       "</div>"
      ],
      "text/plain": [
       "                                   CompoundID,SMILES\n",
       "0  CHEMBL35001,COC(=O)Nc1ccc(Cl)c(‐c2nc3cc(C)ccc3...\n",
       "1  CHEMBL35211,COC(=O)Nc1ccc(OC)c(‐c2nc3cc(C)ccc3...\n",
       "2  CHEMBL35333,COC(=O)Nc1ccc(Cl)c(‐c2nc3ccc(C)cc3...\n",
       "3  CHEMBL35967,C#CCNC(=O)Nc1ccc(Cl)c(‐c2nc3cc(Cl)...\n",
       "4   CHEMBL35458,COC(=O)Nc1ccc(Cl)c(‐c2nc3ccccc3o2)c1"
      ]
     },
     "execution_count": 5,
     "metadata": {},
     "output_type": "execute_result"
    }
   ],
   "source": [
    "df.head()"
   ]
  },
  {
   "cell_type": "code",
   "execution_count": 6,
   "id": "2a2f80f9-c2d1-4c65-bdfd-b5e3687eedc6",
   "metadata": {},
   "outputs": [
    {
     "data": {
      "text/html": [
       "<div>\n",
       "<style scoped>\n",
       "    .dataframe tbody tr th:only-of-type {\n",
       "        vertical-align: middle;\n",
       "    }\n",
       "\n",
       "    .dataframe tbody tr th {\n",
       "        vertical-align: top;\n",
       "    }\n",
       "\n",
       "    .dataframe thead th {\n",
       "        text-align: right;\n",
       "    }\n",
       "</style>\n",
       "<table border=\"1\" class=\"dataframe\">\n",
       "  <thead>\n",
       "    <tr style=\"text-align: right;\">\n",
       "      <th></th>\n",
       "      <th>CompoundID,SMILES</th>\n",
       "    </tr>\n",
       "  </thead>\n",
       "  <tbody>\n",
       "    <tr>\n",
       "      <th>546367</th>\n",
       "      <td>CHEMBL2323521,COc1ccc2c(c1)c(C)c(CCC(=O)NS(=O)...</td>\n",
       "    </tr>\n",
       "  </tbody>\n",
       "</table>\n",
       "</div>"
      ],
      "text/plain": [
       "                                        CompoundID,SMILES\n",
       "546367  CHEMBL2323521,COc1ccc2c(c1)c(C)c(CCC(=O)NS(=O)..."
      ]
     },
     "execution_count": 6,
     "metadata": {},
     "output_type": "execute_result"
    }
   ],
   "source": [
    "df[df['CompoundID,SMILES'].astype(str).str.contains('CHEMBL2323521') == True]"
   ]
  },
  {
   "cell_type": "code",
   "execution_count": 7,
   "id": "34931a7e-f1bf-4976-8175-6d3aa8936b49",
   "metadata": {},
   "outputs": [
    {
     "name": "stdout",
     "output_type": "stream",
     "text": [
      "CHEMBL137900,CC(C)(C)OC(=O)Nc1ccc2c(c1)CC(C(=O)C(=O)O)N(S(=O)(=O)c1ccc(‐c3ccc(F)cc3\n",
      "Page 32\n",
      "Supplemental Table S3.csv.txt\n",
      ")cc1)C2\n"
     ]
    }
   ],
   "source": [
    "print(df['CompoundID,SMILES'][1596])\n",
    "print(df['CompoundID,SMILES'][1597])\n",
    "print(df['CompoundID,SMILES'][1598])\n",
    "print(df['CompoundID,SMILES'][1599])"
   ]
  },
  {
   "cell_type": "code",
   "execution_count": 8,
   "id": "f09a3437-0b57-4f61-be0d-94f31b583f9b",
   "metadata": {},
   "outputs": [
    {
     "data": {
      "text/html": [
       "<div>\n",
       "<style scoped>\n",
       "    .dataframe tbody tr th:only-of-type {\n",
       "        vertical-align: middle;\n",
       "    }\n",
       "\n",
       "    .dataframe tbody tr th {\n",
       "        vertical-align: top;\n",
       "    }\n",
       "\n",
       "    .dataframe thead th {\n",
       "        text-align: right;\n",
       "    }\n",
       "</style>\n",
       "<table border=\"1\" class=\"dataframe\">\n",
       "  <thead>\n",
       "    <tr style=\"text-align: right;\">\n",
       "      <th></th>\n",
       "      <th>CompoundID,SMILES</th>\n",
       "    </tr>\n",
       "  </thead>\n",
       "  <tbody>\n",
       "    <tr>\n",
       "      <th>count</th>\n",
       "      <td>552221</td>\n",
       "    </tr>\n",
       "    <tr>\n",
       "      <th>unique</th>\n",
       "      <td>521264</td>\n",
       "    </tr>\n",
       "    <tr>\n",
       "      <th>top</th>\n",
       "      <td>Supplemental Table S3.csv.txt</td>\n",
       "    </tr>\n",
       "    <tr>\n",
       "      <th>freq</th>\n",
       "      <td>11044</td>\n",
       "    </tr>\n",
       "  </tbody>\n",
       "</table>\n",
       "</div>"
      ],
      "text/plain": [
       "                    CompoundID,SMILES\n",
       "count                          552221\n",
       "unique                         521264\n",
       "top     Supplemental Table S3.csv.txt\n",
       "freq                            11044"
      ]
     },
     "execution_count": 8,
     "metadata": {},
     "output_type": "execute_result"
    }
   ],
   "source": [
    "df.describe()"
   ]
  },
  {
   "cell_type": "code",
   "execution_count": 9,
   "id": "7b3831f5-f121-4a98-a2b6-c878f9f5603f",
   "metadata": {},
   "outputs": [
    {
     "data": {
      "text/html": [
       "<div>\n",
       "<style scoped>\n",
       "    .dataframe tbody tr th:only-of-type {\n",
       "        vertical-align: middle;\n",
       "    }\n",
       "\n",
       "    .dataframe tbody tr th {\n",
       "        vertical-align: top;\n",
       "    }\n",
       "\n",
       "    .dataframe thead th {\n",
       "        text-align: right;\n",
       "    }\n",
       "</style>\n",
       "<table border=\"1\" class=\"dataframe\">\n",
       "  <thead>\n",
       "    <tr style=\"text-align: right;\">\n",
       "      <th></th>\n",
       "      <th>CompoundID,SMILES</th>\n",
       "    </tr>\n",
       "  </thead>\n",
       "  <tbody>\n",
       "    <tr>\n",
       "      <th>count</th>\n",
       "      <td>496946</td>\n",
       "    </tr>\n",
       "    <tr>\n",
       "      <th>unique</th>\n",
       "      <td>496946</td>\n",
       "    </tr>\n",
       "    <tr>\n",
       "      <th>top</th>\n",
       "      <td>CHEMBL35001,COC(=O)Nc1ccc(Cl)c(‐c2nc3cc(C)ccc3...</td>\n",
       "    </tr>\n",
       "    <tr>\n",
       "      <th>freq</th>\n",
       "      <td>1</td>\n",
       "    </tr>\n",
       "  </tbody>\n",
       "</table>\n",
       "</div>"
      ],
      "text/plain": [
       "                                        CompoundID,SMILES\n",
       "count                                              496946\n",
       "unique                                             496946\n",
       "top     CHEMBL35001,COC(=O)Nc1ccc(Cl)c(‐c2nc3cc(C)ccc3...\n",
       "freq                                                    1"
      ]
     },
     "execution_count": 9,
     "metadata": {},
     "output_type": "execute_result"
    }
   ],
   "source": [
    "df[df['CompoundID,SMILES'].astype(str).str.contains('CHEM') == True].describe()"
   ]
  },
  {
   "cell_type": "markdown",
   "id": "121a710f-469e-4021-b393-ab8a43cca11d",
   "metadata": {},
   "source": [
    "## 1. Removing rows containing 'Pa'"
   ]
  },
  {
   "cell_type": "code",
   "execution_count": 10,
   "id": "448002d4-bb28-485c-9374-d5194d13d61d",
   "metadata": {},
   "outputs": [
    {
     "data": {
      "text/html": [
       "<div>\n",
       "<style scoped>\n",
       "    .dataframe tbody tr th:only-of-type {\n",
       "        vertical-align: middle;\n",
       "    }\n",
       "\n",
       "    .dataframe tbody tr th {\n",
       "        vertical-align: top;\n",
       "    }\n",
       "\n",
       "    .dataframe thead th {\n",
       "        text-align: right;\n",
       "    }\n",
       "</style>\n",
       "<table border=\"1\" class=\"dataframe\">\n",
       "  <thead>\n",
       "    <tr style=\"text-align: right;\">\n",
       "      <th></th>\n",
       "      <th>CompoundID,SMILES</th>\n",
       "    </tr>\n",
       "  </thead>\n",
       "  <tbody>\n",
       "    <tr>\n",
       "      <th>47</th>\n",
       "      <td>Page 1</td>\n",
       "    </tr>\n",
       "    <tr>\n",
       "      <th>97</th>\n",
       "      <td>Page 2</td>\n",
       "    </tr>\n",
       "    <tr>\n",
       "      <th>147</th>\n",
       "      <td>Page 3</td>\n",
       "    </tr>\n",
       "    <tr>\n",
       "      <th>197</th>\n",
       "      <td>Page 4</td>\n",
       "    </tr>\n",
       "    <tr>\n",
       "      <th>247</th>\n",
       "      <td>Page 5</td>\n",
       "    </tr>\n",
       "    <tr>\n",
       "      <th>...</th>\n",
       "      <td>...</td>\n",
       "    </tr>\n",
       "    <tr>\n",
       "      <th>552047</th>\n",
       "      <td>Page 11041</td>\n",
       "    </tr>\n",
       "    <tr>\n",
       "      <th>552097</th>\n",
       "      <td>Page 11042</td>\n",
       "    </tr>\n",
       "    <tr>\n",
       "      <th>552147</th>\n",
       "      <td>Page 11043</td>\n",
       "    </tr>\n",
       "    <tr>\n",
       "      <th>552197</th>\n",
       "      <td>Page 11044</td>\n",
       "    </tr>\n",
       "    <tr>\n",
       "      <th>552220</th>\n",
       "      <td>Page 11045</td>\n",
       "    </tr>\n",
       "  </tbody>\n",
       "</table>\n",
       "<p>11045 rows × 1 columns</p>\n",
       "</div>"
      ],
      "text/plain": [
       "       CompoundID,SMILES\n",
       "47                Page 1\n",
       "97                Page 2\n",
       "147               Page 3\n",
       "197               Page 4\n",
       "247               Page 5\n",
       "...                  ...\n",
       "552047        Page 11041\n",
       "552097        Page 11042\n",
       "552147        Page 11043\n",
       "552197        Page 11044\n",
       "552220        Page 11045\n",
       "\n",
       "[11045 rows x 1 columns]"
      ]
     },
     "execution_count": 10,
     "metadata": {},
     "output_type": "execute_result"
    }
   ],
   "source": [
    "df[df['CompoundID,SMILES'].astype(str).str.contains('Page') == True]"
   ]
  },
  {
   "cell_type": "code",
   "execution_count": 11,
   "id": "63a9f1b7-399f-48c7-8f59-3cf9bfb30db1",
   "metadata": {},
   "outputs": [],
   "source": [
    "df = df[df['CompoundID,SMILES'].str.contains('Page') == False]"
   ]
  },
  {
   "cell_type": "code",
   "execution_count": 12,
   "id": "0600d49b-20a6-400d-91f3-252427630e2c",
   "metadata": {},
   "outputs": [
    {
     "name": "stdout",
     "output_type": "stream",
     "text": [
      "(541176, 1) -+- Index(['CompoundID,SMILES'], dtype='object')\n"
     ]
    }
   ],
   "source": [
    "print('{} -+- {}'.format(df.shape, df.columns))"
   ]
  },
  {
   "cell_type": "code",
   "execution_count": 13,
   "id": "f6eb8617-31bc-4082-8584-894afed9f503",
   "metadata": {},
   "outputs": [
    {
     "data": {
      "text/html": [
       "<div>\n",
       "<style scoped>\n",
       "    .dataframe tbody tr th:only-of-type {\n",
       "        vertical-align: middle;\n",
       "    }\n",
       "\n",
       "    .dataframe tbody tr th {\n",
       "        vertical-align: top;\n",
       "    }\n",
       "\n",
       "    .dataframe thead th {\n",
       "        text-align: right;\n",
       "    }\n",
       "</style>\n",
       "<table border=\"1\" class=\"dataframe\">\n",
       "  <thead>\n",
       "    <tr style=\"text-align: right;\">\n",
       "      <th></th>\n",
       "      <th>CompoundID,SMILES</th>\n",
       "    </tr>\n",
       "  </thead>\n",
       "  <tbody>\n",
       "  </tbody>\n",
       "</table>\n",
       "</div>"
      ],
      "text/plain": [
       "Empty DataFrame\n",
       "Columns: [CompoundID,SMILES]\n",
       "Index: []"
      ]
     },
     "execution_count": 13,
     "metadata": {},
     "output_type": "execute_result"
    }
   ],
   "source": [
    "df[df['CompoundID,SMILES'].astype(str).str.contains('Page') == True]"
   ]
  },
  {
   "cell_type": "code",
   "execution_count": 14,
   "id": "a815f7f8-a5ab-4de8-9afd-fe6b6f97cd63",
   "metadata": {},
   "outputs": [
    {
     "name": "stdout",
     "output_type": "stream",
     "text": [
      "CHEMBL137900,CC(C)(C)OC(=O)Nc1ccc2c(c1)CC(C(=O)C(=O)O)N(S(=O)(=O)c1ccc(‐c3ccc(F)cc3\n",
      "Supplemental Table S3.csv.txt\n",
      ")cc1)C2\n"
     ]
    }
   ],
   "source": [
    "print(df['CompoundID,SMILES'][1596])\n",
    "# print(df['CompoundID,SMILES'][1597])\n",
    "print(df['CompoundID,SMILES'][1598])\n",
    "print(df['CompoundID,SMILES'][1599])"
   ]
  },
  {
   "cell_type": "markdown",
   "id": "07fdc71f-4e84-4e86-86db-e98884cff7a5",
   "metadata": {},
   "source": [
    "## 2. Removing rows containing 'Sup'"
   ]
  },
  {
   "cell_type": "code",
   "execution_count": 15,
   "id": "5bf791b1-e247-4800-b8de-d1f02ac62ebe",
   "metadata": {},
   "outputs": [
    {
     "data": {
      "text/html": [
       "<div>\n",
       "<style scoped>\n",
       "    .dataframe tbody tr th:only-of-type {\n",
       "        vertical-align: middle;\n",
       "    }\n",
       "\n",
       "    .dataframe tbody tr th {\n",
       "        vertical-align: top;\n",
       "    }\n",
       "\n",
       "    .dataframe thead th {\n",
       "        text-align: right;\n",
       "    }\n",
       "</style>\n",
       "<table border=\"1\" class=\"dataframe\">\n",
       "  <thead>\n",
       "    <tr style=\"text-align: right;\">\n",
       "      <th></th>\n",
       "      <th>CompoundID,SMILES</th>\n",
       "    </tr>\n",
       "  </thead>\n",
       "  <tbody>\n",
       "    <tr>\n",
       "      <th>48</th>\n",
       "      <td>Supplemental Table S3.csv.txt</td>\n",
       "    </tr>\n",
       "    <tr>\n",
       "      <th>98</th>\n",
       "      <td>Supplemental Table S3.csv.txt</td>\n",
       "    </tr>\n",
       "    <tr>\n",
       "      <th>148</th>\n",
       "      <td>Supplemental Table S3.csv.txt</td>\n",
       "    </tr>\n",
       "    <tr>\n",
       "      <th>198</th>\n",
       "      <td>Supplemental Table S3.csv.txt</td>\n",
       "    </tr>\n",
       "    <tr>\n",
       "      <th>248</th>\n",
       "      <td>Supplemental Table S3.csv.txt</td>\n",
       "    </tr>\n",
       "    <tr>\n",
       "      <th>...</th>\n",
       "      <td>...</td>\n",
       "    </tr>\n",
       "    <tr>\n",
       "      <th>551998</th>\n",
       "      <td>Supplemental Table S3.csv.txt</td>\n",
       "    </tr>\n",
       "    <tr>\n",
       "      <th>552048</th>\n",
       "      <td>Supplemental Table S3.csv.txt</td>\n",
       "    </tr>\n",
       "    <tr>\n",
       "      <th>552098</th>\n",
       "      <td>Supplemental Table S3.csv.txt</td>\n",
       "    </tr>\n",
       "    <tr>\n",
       "      <th>552148</th>\n",
       "      <td>Supplemental Table S3.csv.txt</td>\n",
       "    </tr>\n",
       "    <tr>\n",
       "      <th>552198</th>\n",
       "      <td>Supplemental Table S3.csv.txt</td>\n",
       "    </tr>\n",
       "  </tbody>\n",
       "</table>\n",
       "<p>11044 rows × 1 columns</p>\n",
       "</div>"
      ],
      "text/plain": [
       "                    CompoundID,SMILES\n",
       "48      Supplemental Table S3.csv.txt\n",
       "98      Supplemental Table S3.csv.txt\n",
       "148     Supplemental Table S3.csv.txt\n",
       "198     Supplemental Table S3.csv.txt\n",
       "248     Supplemental Table S3.csv.txt\n",
       "...                               ...\n",
       "551998  Supplemental Table S3.csv.txt\n",
       "552048  Supplemental Table S3.csv.txt\n",
       "552098  Supplemental Table S3.csv.txt\n",
       "552148  Supplemental Table S3.csv.txt\n",
       "552198  Supplemental Table S3.csv.txt\n",
       "\n",
       "[11044 rows x 1 columns]"
      ]
     },
     "execution_count": 15,
     "metadata": {},
     "output_type": "execute_result"
    }
   ],
   "source": [
    "df[df['CompoundID,SMILES'].astype(str).str.contains('Sup') == True]"
   ]
  },
  {
   "cell_type": "code",
   "execution_count": 16,
   "id": "7dd61e4f-8f90-42c3-ac1e-9437cd9ac3eb",
   "metadata": {},
   "outputs": [],
   "source": [
    "df = df[df['CompoundID,SMILES'].astype(str).str.contains('Sup') == False]"
   ]
  },
  {
   "cell_type": "code",
   "execution_count": 17,
   "id": "8687bf8b-604a-4088-99fd-de2156f04f75",
   "metadata": {},
   "outputs": [
    {
     "name": "stdout",
     "output_type": "stream",
     "text": [
      "(530132, 1) -+- Index(['CompoundID,SMILES'], dtype='object')\n"
     ]
    }
   ],
   "source": [
    "print('{} -+- {}'.format(df.shape, df.columns))"
   ]
  },
  {
   "cell_type": "code",
   "execution_count": 18,
   "id": "a16e4be1-7ce5-4455-865a-d774e8342eb5",
   "metadata": {},
   "outputs": [
    {
     "data": {
      "text/html": [
       "<div>\n",
       "<style scoped>\n",
       "    .dataframe tbody tr th:only-of-type {\n",
       "        vertical-align: middle;\n",
       "    }\n",
       "\n",
       "    .dataframe tbody tr th {\n",
       "        vertical-align: top;\n",
       "    }\n",
       "\n",
       "    .dataframe thead th {\n",
       "        text-align: right;\n",
       "    }\n",
       "</style>\n",
       "<table border=\"1\" class=\"dataframe\">\n",
       "  <thead>\n",
       "    <tr style=\"text-align: right;\">\n",
       "      <th></th>\n",
       "      <th>CompoundID,SMILES</th>\n",
       "    </tr>\n",
       "  </thead>\n",
       "  <tbody>\n",
       "  </tbody>\n",
       "</table>\n",
       "</div>"
      ],
      "text/plain": [
       "Empty DataFrame\n",
       "Columns: [CompoundID,SMILES]\n",
       "Index: []"
      ]
     },
     "execution_count": 18,
     "metadata": {},
     "output_type": "execute_result"
    }
   ],
   "source": [
    "df[df['CompoundID,SMILES'].astype(str).str.contains('Sup') == True]"
   ]
  },
  {
   "cell_type": "code",
   "execution_count": 19,
   "id": "736b534d-e9be-407d-b02b-a426e437394e",
   "metadata": {},
   "outputs": [
    {
     "name": "stdout",
     "output_type": "stream",
     "text": [
      "CHEMBL137900,CC(C)(C)OC(=O)Nc1ccc2c(c1)CC(C(=O)C(=O)O)N(S(=O)(=O)c1ccc(‐c3ccc(F)cc3\n",
      ")cc1)C2\n"
     ]
    }
   ],
   "source": [
    "print(df['CompoundID,SMILES'][1596])\n",
    "# print(df['CompoundID,SMILES'][1597])\n",
    "# print(df['CompoundID,SMILES'][1598])\n",
    "print(df['CompoundID,SMILES'][1599])"
   ]
  },
  {
   "cell_type": "code",
   "execution_count": 20,
   "id": "f35c04eb-6303-40c4-ab69-7ad9ef43c69d",
   "metadata": {},
   "outputs": [],
   "source": [
    "temp = []\n",
    "for row in df.itertuples():\n",
    "    try:\n",
    "        temp.append(row[1])\n",
    "    except KeyError:\n",
    "        temp.append(['empty'])\n",
    "df = pd.DataFrame(temp, columns=['CompoundID,SMILES'])"
   ]
  },
  {
   "cell_type": "code",
   "execution_count": 21,
   "id": "2ee43764-1873-437d-9a48-90dfe9896f27",
   "metadata": {},
   "outputs": [
    {
     "name": "stdout",
     "output_type": "stream",
     "text": [
      "CHEMBL251481,CC(NC(CCc1ccccc1)C(=O)NC(CCCNC(=N)N)C(=O)Nc1ccccc1)C(=O)O\n",
      "CHEMBL418335,CC(C)CC(NC(=O)C(CCc1ccc(‐c2ccccc2)cc1)CC(C)C(=O)O)C(=O)Nc1ccccc1\n",
      "CHEMBL267503,CCCCC(CC(CCc1ccc(‐c2ccccc2S(=O)(=O)NC(C)(C)C)cc1)C(=O)NC(C(=O)NC)C(C)(\n",
      "C)C)C(=O)O\n"
     ]
    }
   ],
   "source": [
    "print(df['CompoundID,SMILES'][1596])\n",
    "print(df['CompoundID,SMILES'][1597])\n",
    "print(df['CompoundID,SMILES'][1598])\n",
    "print(df['CompoundID,SMILES'][1599])"
   ]
  },
  {
   "cell_type": "markdown",
   "id": "4ffba4d3-d97d-453e-b707-8f47369818cc",
   "metadata": {},
   "source": [
    "## 3. Appending Rows which don't start with `Chem`"
   ]
  },
  {
   "cell_type": "code",
   "execution_count": 22,
   "id": "7e8697b6-ff40-47b9-b9a0-8a0d67d7a2ca",
   "metadata": {},
   "outputs": [
    {
     "data": {
      "text/html": [
       "<div>\n",
       "<style scoped>\n",
       "    .dataframe tbody tr th:only-of-type {\n",
       "        vertical-align: middle;\n",
       "    }\n",
       "\n",
       "    .dataframe tbody tr th {\n",
       "        vertical-align: top;\n",
       "    }\n",
       "\n",
       "    .dataframe thead th {\n",
       "        text-align: right;\n",
       "    }\n",
       "</style>\n",
       "<table border=\"1\" class=\"dataframe\">\n",
       "  <thead>\n",
       "    <tr style=\"text-align: right;\">\n",
       "      <th></th>\n",
       "      <th>CompoundID,SMILES</th>\n",
       "    </tr>\n",
       "  </thead>\n",
       "  <tbody>\n",
       "  </tbody>\n",
       "</table>\n",
       "</div>"
      ],
      "text/plain": [
       "Empty DataFrame\n",
       "Columns: [CompoundID,SMILES]\n",
       "Index: []"
      ]
     },
     "execution_count": 22,
     "metadata": {},
     "output_type": "execute_result"
    }
   ],
   "source": [
    "df[df['CompoundID,SMILES'].astype(str).str.contains('emp') == True]"
   ]
  },
  {
   "cell_type": "code",
   "execution_count": 23,
   "id": "3c74a442-2b4d-48b9-af1b-91ee0ca7daad",
   "metadata": {},
   "outputs": [
    {
     "data": {
      "text/html": [
       "<div>\n",
       "<style scoped>\n",
       "    .dataframe tbody tr th:only-of-type {\n",
       "        vertical-align: middle;\n",
       "    }\n",
       "\n",
       "    .dataframe tbody tr th {\n",
       "        vertical-align: top;\n",
       "    }\n",
       "\n",
       "    .dataframe thead th {\n",
       "        text-align: right;\n",
       "    }\n",
       "</style>\n",
       "<table border=\"1\" class=\"dataframe\">\n",
       "  <thead>\n",
       "    <tr style=\"text-align: right;\">\n",
       "      <th></th>\n",
       "      <th>CompoundID,SMILES</th>\n",
       "    </tr>\n",
       "  </thead>\n",
       "  <tbody>\n",
       "    <tr>\n",
       "      <th>0</th>\n",
       "      <td>CHEMBL35001,COC(=O)Nc1ccc(Cl)c(‐c2nc3cc(C)ccc3...</td>\n",
       "    </tr>\n",
       "    <tr>\n",
       "      <th>1</th>\n",
       "      <td>CHEMBL35211,COC(=O)Nc1ccc(OC)c(‐c2nc3cc(C)ccc3...</td>\n",
       "    </tr>\n",
       "    <tr>\n",
       "      <th>2</th>\n",
       "      <td>CHEMBL35333,COC(=O)Nc1ccc(Cl)c(‐c2nc3ccc(C)cc3...</td>\n",
       "    </tr>\n",
       "    <tr>\n",
       "      <th>3</th>\n",
       "      <td>CHEMBL35967,C#CCNC(=O)Nc1ccc(Cl)c(‐c2nc3cc(Cl)...</td>\n",
       "    </tr>\n",
       "    <tr>\n",
       "      <th>4</th>\n",
       "      <td>CHEMBL35458,COC(=O)Nc1ccc(Cl)c(‐c2nc3ccccc3o2)c1</td>\n",
       "    </tr>\n",
       "  </tbody>\n",
       "</table>\n",
       "</div>"
      ],
      "text/plain": [
       "                                   CompoundID,SMILES\n",
       "0  CHEMBL35001,COC(=O)Nc1ccc(Cl)c(‐c2nc3cc(C)ccc3...\n",
       "1  CHEMBL35211,COC(=O)Nc1ccc(OC)c(‐c2nc3cc(C)ccc3...\n",
       "2  CHEMBL35333,COC(=O)Nc1ccc(Cl)c(‐c2nc3ccc(C)cc3...\n",
       "3  CHEMBL35967,C#CCNC(=O)Nc1ccc(Cl)c(‐c2nc3cc(Cl)...\n",
       "4   CHEMBL35458,COC(=O)Nc1ccc(Cl)c(‐c2nc3ccccc3o2)c1"
      ]
     },
     "execution_count": 23,
     "metadata": {},
     "output_type": "execute_result"
    }
   ],
   "source": [
    "df.head()"
   ]
  },
  {
   "cell_type": "code",
   "execution_count": 24,
   "id": "25a6ff4d-f9a1-416a-be6c-3e150fb3f31b",
   "metadata": {},
   "outputs": [],
   "source": [
    "for index in df.index:\n",
    "    rows_back = 0\n",
    "    while df['CompoundID,SMILES'][index].startswith('CHEM')!=True:\n",
    "        rows_back += 1\n",
    "        df['CompoundID,SMILES'][index - rows_back] += df['CompoundID,SMILES'][index]\n",
    "        index+=1"
   ]
  },
  {
   "cell_type": "code",
   "execution_count": 25,
   "id": "19ec8a0a-3c29-4c36-9e4b-080edb829faa",
   "metadata": {},
   "outputs": [
    {
     "name": "stdout",
     "output_type": "stream",
     "text": [
      "(530132, 1) -+- Index(['CompoundID,SMILES'], dtype='object')\n"
     ]
    }
   ],
   "source": [
    "print('{} -+- {}'.format(df.shape, df.columns))"
   ]
  },
  {
   "cell_type": "code",
   "execution_count": 26,
   "id": "968b7745-7866-4b25-a5bb-0bb69a667cf4",
   "metadata": {},
   "outputs": [
    {
     "data": {
      "text/html": [
       "<div>\n",
       "<style scoped>\n",
       "    .dataframe tbody tr th:only-of-type {\n",
       "        vertical-align: middle;\n",
       "    }\n",
       "\n",
       "    .dataframe tbody tr th {\n",
       "        vertical-align: top;\n",
       "    }\n",
       "\n",
       "    .dataframe thead th {\n",
       "        text-align: right;\n",
       "    }\n",
       "</style>\n",
       "<table border=\"1\" class=\"dataframe\">\n",
       "  <thead>\n",
       "    <tr style=\"text-align: right;\">\n",
       "      <th></th>\n",
       "      <th>CompoundID,SMILES</th>\n",
       "    </tr>\n",
       "  </thead>\n",
       "  <tbody>\n",
       "    <tr>\n",
       "      <th>count</th>\n",
       "      <td>496946</td>\n",
       "    </tr>\n",
       "    <tr>\n",
       "      <th>unique</th>\n",
       "      <td>496946</td>\n",
       "    </tr>\n",
       "    <tr>\n",
       "      <th>top</th>\n",
       "      <td>CHEMBL35001,COC(=O)Nc1ccc(Cl)c(‐c2nc3cc(C)ccc3...</td>\n",
       "    </tr>\n",
       "    <tr>\n",
       "      <th>freq</th>\n",
       "      <td>1</td>\n",
       "    </tr>\n",
       "  </tbody>\n",
       "</table>\n",
       "</div>"
      ],
      "text/plain": [
       "                                        CompoundID,SMILES\n",
       "count                                              496946\n",
       "unique                                             496946\n",
       "top     CHEMBL35001,COC(=O)Nc1ccc(Cl)c(‐c2nc3cc(C)ccc3...\n",
       "freq                                                    1"
      ]
     },
     "execution_count": 26,
     "metadata": {},
     "output_type": "execute_result"
    }
   ],
   "source": [
    "df[df['CompoundID,SMILES'].astype(str).str.contains('CHEM') == True].describe()"
   ]
  },
  {
   "cell_type": "markdown",
   "id": "52897179-d45e-40a3-86d4-9a9b08ad5ee9",
   "metadata": {
    "tags": []
   },
   "source": [
    "## 4. Finalising the Dataset"
   ]
  },
  {
   "cell_type": "code",
   "execution_count": 27,
   "id": "360a13a8-c153-410d-9b9c-3b1951da2320",
   "metadata": {},
   "outputs": [],
   "source": [
    "df['CompoundID,SMILES'] = df['CompoundID,SMILES'].str.replace('\\u2010', '-', regex=False)"
   ]
  },
  {
   "cell_type": "code",
   "execution_count": 28,
   "id": "91b87618-9ab4-45f6-ae5c-9717fae25b18",
   "metadata": {},
   "outputs": [],
   "source": [
    "final_df = []\n",
    "for row in df.itertuples():\n",
    "    if row[1].startswith('CHEM'):\n",
    "        final_df.append(row[1])\n",
    "final_df = pd.DataFrame(final_df, columns=['CompoundID,SMILES'])"
   ]
  },
  {
   "cell_type": "code",
   "execution_count": 29,
   "id": "1ec1532c-a611-4103-8d51-823854d00eef",
   "metadata": {},
   "outputs": [
    {
     "data": {
      "text/html": [
       "<div>\n",
       "<style scoped>\n",
       "    .dataframe tbody tr th:only-of-type {\n",
       "        vertical-align: middle;\n",
       "    }\n",
       "\n",
       "    .dataframe tbody tr th {\n",
       "        vertical-align: top;\n",
       "    }\n",
       "\n",
       "    .dataframe thead th {\n",
       "        text-align: right;\n",
       "    }\n",
       "</style>\n",
       "<table border=\"1\" class=\"dataframe\">\n",
       "  <thead>\n",
       "    <tr style=\"text-align: right;\">\n",
       "      <th></th>\n",
       "      <th>CompoundID,SMILES</th>\n",
       "    </tr>\n",
       "  </thead>\n",
       "  <tbody>\n",
       "  </tbody>\n",
       "</table>\n",
       "</div>"
      ],
      "text/plain": [
       "Empty DataFrame\n",
       "Columns: [CompoundID,SMILES]\n",
       "Index: []"
      ]
     },
     "execution_count": 29,
     "metadata": {},
     "output_type": "execute_result"
    }
   ],
   "source": [
    "final_df[final_df['CompoundID,SMILES'].astype(str).str.startswith('CHEM') == False]"
   ]
  },
  {
   "cell_type": "code",
   "execution_count": 30,
   "id": "88b0a7f5-8643-4b14-af1f-91626b38adbd",
   "metadata": {},
   "outputs": [],
   "source": [
    "save_path = os.path.dirname(os.getcwd()) + '/data/datasets/ci9b00375_si_003_modified.txt'"
   ]
  },
  {
   "cell_type": "code",
   "execution_count": 31,
   "id": "110760ae-9b4e-48e7-9e3d-e52bdf7ff376",
   "metadata": {},
   "outputs": [],
   "source": [
    "final_df[['CompoundID','SMILES']] = final_df['CompoundID,SMILES'].str.split(',', n=1, expand=True)\n",
    "final_df.to_csv(save_path,columns=['CompoundID','SMILES'], index=False, doublequote=False)"
   ]
  },
  {
   "cell_type": "markdown",
   "id": "2d0f0dba-33fe-4ffa-852f-e4bd0a2807d5",
   "metadata": {},
   "source": [
    "## 5. Testing if all molecules have been successfully represented"
   ]
  },
  {
   "cell_type": "code",
   "execution_count": 32,
   "id": "1bae7809-f96c-41b2-97b6-aa554172cc8b",
   "metadata": {},
   "outputs": [],
   "source": [
    "from rdkit import Chem\n",
    "from rdkit.Chem import RDKFingerprint\n",
    "from rdkit.Chem import rdMolDescriptors as rdmd"
   ]
  },
  {
   "cell_type": "code",
   "execution_count": 33,
   "id": "3388f614-b97d-4526-b788-dd838641eb09",
   "metadata": {},
   "outputs": [],
   "source": [
    "final_df = pd.read_csv(save_path,delimiter=',')"
   ]
  },
  {
   "cell_type": "code",
   "execution_count": 34,
   "id": "f8f717cb-f326-4c6c-872d-066ad8c60258",
   "metadata": {},
   "outputs": [],
   "source": [
    "for row in final_df.itertuples():\n",
    "    mol = Chem.MolFromSmiles(row.SMILES)\n",
    "    if mol is None:\n",
    "        print('{} row molecule is fxxcked'.format(row.CompoundID))"
   ]
  }
 ],
 "metadata": {
  "kernelspec": {
   "display_name": "Python 3 (ipykernel)",
   "language": "python",
   "name": "python3"
  },
  "language_info": {
   "codemirror_mode": {
    "name": "ipython",
    "version": 3
   },
   "file_extension": ".py",
   "mimetype": "text/x-python",
   "name": "python",
   "nbconvert_exporter": "python",
   "pygments_lexer": "ipython3",
   "version": "3.9.10"
  }
 },
 "nbformat": 4,
 "nbformat_minor": 5
}
