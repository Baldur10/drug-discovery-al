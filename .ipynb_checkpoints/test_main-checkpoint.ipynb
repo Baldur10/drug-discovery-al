{
 "cells": [
  {
   "cell_type": "code",
   "execution_count": 1,
   "id": "0c6d8c75-048b-465c-809d-b0343b8e37a6",
   "metadata": {},
   "outputs": [],
   "source": [
    "import os\n",
    "import torch\n",
    "import pandas as pd\n",
    "import numpy as np\n",
    "import matplotlib.pyplot as plt\n",
    "\n",
    "from sklearn.gaussian_process import GaussianProcessRegressor as GPR\n",
    "from torch import nn\n",
    "\n",
    "from modAL.models import BayesianOptimizer\n",
    "from modAL.acquisition import max_EI\n",
    "\n",
    "from sklearn.preprocessing import StandardScaler, MinMaxScaler, RobustScaler"
   ]
  },
  {
   "cell_type": "code",
   "execution_count": 2,
   "id": "aed411be-b335-4457-b3ed-2d46c88fb07b",
   "metadata": {},
   "outputs": [
    {
     "data": {
      "text/plain": [
       "'C:\\\\Users\\\\Rahil\\\\Documents\\\\Github\\\\drug-discovery-al'"
      ]
     },
     "execution_count": 2,
     "metadata": {},
     "output_type": "execute_result"
    }
   ],
   "source": [
    "os.getcwd()"
   ]
  },
  {
   "cell_type": "code",
   "execution_count": 3,
   "id": "99eb81b0-f36c-44af-9915-5e399d1d4e40",
   "metadata": {},
   "outputs": [],
   "source": [
    "# parameters\n",
    "fingerprint = 'morgan'\n",
    "model = 'GPR'\n",
    "file_path = 'data/data_temp/default_{}'.format(fingerprint)\n",
    "config_file = '/config/'"
   ]
  },
  {
   "cell_type": "code",
   "execution_count": 4,
   "id": "406f063f-1870-42b3-9386-4a9306d0d6a3",
   "metadata": {},
   "outputs": [],
   "source": [
    "df_fingerprint = pd.read_parquet(file_path + '/fingerprint/{}_fingerprint_file.parquet'.format(fingerprint))\n",
    "df = pd.read_parquet(file_path + '/preprocessed/preprocessed_file.parquet')"
   ]
  },
  {
   "cell_type": "markdown",
   "id": "1f0bef28-006f-4ba0-9c0a-8ea853abf6aa",
   "metadata": {},
   "source": [
    "df = pd.read_feather(file_path + '/complete_file_{}.feather'.format(fingerprint))\n",
    "df.head()"
   ]
  },
  {
   "cell_type": "code",
   "execution_count": 7,
   "id": "b77ec41e-9a5f-49ed-9aeb-b2aeff612413",
   "metadata": {},
   "outputs": [],
   "source": [
    "df_nan = pd.read_parquet(file_path + '/assay_id/assay_id_null_file.parquet')"
   ]
  },
  {
   "cell_type": "markdown",
   "id": "03c97cec-8c50-4119-bc4a-bf4c4a8446e8",
   "metadata": {
    "tags": []
   },
   "source": [
    "df_smiles = df.iloc[:,9:]\n",
    "# df.iloc[:,9:]\n",
    "df_smiles.head()"
   ]
  },
  {
   "cell_type": "code",
   "execution_count": 10,
   "id": "aef88d7f-4cce-492c-aa89-d8e39aa92473",
   "metadata": {},
   "outputs": [
    {
     "data": {
      "text/html": [
       "<div>\n",
       "<style scoped>\n",
       "    .dataframe tbody tr th:only-of-type {\n",
       "        vertical-align: middle;\n",
       "    }\n",
       "\n",
       "    .dataframe tbody tr th {\n",
       "        vertical-align: top;\n",
       "    }\n",
       "\n",
       "    .dataframe thead th {\n",
       "        text-align: right;\n",
       "    }\n",
       "</style>\n",
       "<table border=\"1\" class=\"dataframe\">\n",
       "  <thead>\n",
       "    <tr style=\"text-align: right;\">\n",
       "      <th></th>\n",
       "      <th>assay_id</th>\n",
       "      <th>squared_pearson_trn</th>\n",
       "      <th>squared_pearson_tst</th>\n",
       "    </tr>\n",
       "  </thead>\n",
       "  <tbody>\n",
       "    <tr>\n",
       "      <th>1</th>\n",
       "      <td>303216</td>\n",
       "      <td>NaN</td>\n",
       "      <td>NaN</td>\n",
       "    </tr>\n",
       "    <tr>\n",
       "      <th>2</th>\n",
       "      <td>303260</td>\n",
       "      <td>NaN</td>\n",
       "      <td>NaN</td>\n",
       "    </tr>\n",
       "    <tr>\n",
       "      <th>4</th>\n",
       "      <td>737235</td>\n",
       "      <td>NaN</td>\n",
       "      <td>NaN</td>\n",
       "    </tr>\n",
       "  </tbody>\n",
       "</table>\n",
       "</div>"
      ],
      "text/plain": [
       "   assay_id  squared_pearson_trn  squared_pearson_tst\n",
       "1    303216                  NaN                  NaN\n",
       "2    303260                  NaN                  NaN\n",
       "4    737235                  NaN                  NaN"
      ]
     },
     "execution_count": 10,
     "metadata": {},
     "output_type": "execute_result"
    }
   ],
   "source": [
    "df_nan.loc[df_nan['squared_pearson_trn'].isnull()]"
   ]
  },
  {
   "cell_type": "code",
   "execution_count": null,
   "id": "62271496-ad85-4d1a-b6a0-873550fcfa76",
   "metadata": {},
   "outputs": [],
   "source": [
    "df.loc[df_nan.loc[df_nan['squared_pearson_trn'].isnull()]]"
   ]
  },
  {
   "cell_type": "code",
   "execution_count": null,
   "id": "28d8bb2f-7341-488d-b8df-435fc485496d",
   "metadata": {},
   "outputs": [],
   "source": [
    "df = df.loc[~df_nan.loc[df_nan['squared_pearson_trn'].isnull()]]"
   ]
  }
 ],
 "metadata": {
  "kernelspec": {
   "display_name": "Python 3 (ipykernel)",
   "language": "python",
   "name": "python3"
  },
  "language_info": {
   "codemirror_mode": {
    "name": "ipython",
    "version": 3
   },
   "file_extension": ".py",
   "mimetype": "text/x-python",
   "name": "python",
   "nbconvert_exporter": "python",
   "pygments_lexer": "ipython3",
   "version": "3.9.10"
  }
 },
 "nbformat": 4,
 "nbformat_minor": 5
}
